{
  "nbformat": 4,
  "nbformat_minor": 0,
  "metadata": {
    "colab": {
      "name": "MNIST digit classification.ipynb",
      "version": "0.3.2",
      "provenance": []
    },
    "kernelspec": {
      "name": "python3",
      "display_name": "Python 3"
    },
    "accelerator": "GPU"
  },
  "cells": [
    {
      "metadata": {
        "id": "A1cK9A5HCbV4",
        "colab_type": "text"
      },
      "cell_type": "markdown",
      "source": [
        "# MNIST digits classification with TensorFlow\n",
        "\n",
        "\n"
      ]
    },
    {
      "metadata": {
        "id": "S1XNWfo_0kcN",
        "colab_type": "code",
        "outputId": "130eb775-51e3-410c-cb67-fa792b13f42e",
        "colab": {
          "base_uri": "https://localhost:8080/",
          "height": 34
        }
      },
      "cell_type": "code",
      "source": [
        "import numpy as np\n",
        "from sklearn.metrics import accuracy_score\n",
        "from matplotlib import pyplot as plt\n",
        "%matplotlib inline\n",
        "import tensorflow as tf\n",
        "print(\"We're using TF\", tf.__version__)"
      ],
      "execution_count": 0,
      "outputs": [
        {
          "output_type": "stream",
          "text": [
            "We're using TF 1.12.0\n"
          ],
          "name": "stdout"
        }
      ]
    },
    {
      "metadata": {
        "id": "MQ9WMsff2tL0",
        "colab_type": "code",
        "outputId": "8abf8441-848f-468f-90d9-9c0f31b8ed66",
        "colab": {
          "base_uri": "https://localhost:8080/",
          "height": 34
        }
      },
      "cell_type": "code",
      "source": [
        "import keras\n",
        "\n",
        "\n",
        "def load_dataset(flatten=False):\n",
        "    (X_train, y_train), (X_test, y_test) = keras.datasets.mnist.load_data()\n",
        "\n",
        "    # normalize x\n",
        "    X_train = X_train.astype(float) / 255.\n",
        "    X_test = X_test.astype(float) / 255.\n",
        "\n",
        "    # we reserve the last 10000 training examples for validation\n",
        "    X_train, X_val = X_train[:-10000], X_train[-10000:]\n",
        "    y_train, y_val = y_train[:-10000], y_train[-10000:]\n",
        "\n",
        "    if flatten:\n",
        "        X_train = X_train.reshape([X_train.shape[0], -1])\n",
        "        X_val = X_val.reshape([X_val.shape[0], -1])\n",
        "        X_test = X_test.reshape([X_test.shape[0], -1])\n",
        "\n",
        "    return X_train, y_train, X_val, y_val, X_test, y_test\n"
      ],
      "execution_count": 0,
      "outputs": [
        {
          "output_type": "stream",
          "text": [
            "Using TensorFlow backend.\n"
          ],
          "name": "stderr"
        }
      ]
    },
    {
      "metadata": {
        "id": "QHnVY0I-3Fmh",
        "colab_type": "code",
        "outputId": "8eb2146b-395e-4bc1-85f8-baaaf7bf5c1c",
        "colab": {
          "base_uri": "https://localhost:8080/",
          "height": 717
        }
      },
      "cell_type": "code",
      "source": [
        "X_train, y_train, X_val, y_val, X_test, y_test = load_dataset()\n",
        "print(\"X_train [shape %s] sample patch:\\n\" % (str(X_train.shape)), X_train[1, 15:20, 5:10])\n",
        "print(\"A closeup of a sample patch:\")\n",
        "plt.imshow(X_train[1, 15:20, 5:10], cmap=\"Greys\")\n",
        "plt.show()\n",
        "print(\"And the whole sample:\")\n",
        "plt.imshow(X_train[1], cmap=\"Greys\")\n",
        "plt.show()\n",
        "print(\"y_train [shape %s] 10 samples:\\n\" % (str(y_train.shape)), y_train[:10])"
      ],
      "execution_count": 0,
      "outputs": [
        {
          "output_type": "stream",
          "text": [
            "Downloading data from https://s3.amazonaws.com/img-datasets/mnist.npz\n",
            "11493376/11490434 [==============================] - 2s 0us/step\n",
            "X_train [shape (50000, 28, 28)] sample patch:\n",
            " [[0.         0.29803922 0.96470588 0.98823529 0.43921569]\n",
            " [0.         0.33333333 0.98823529 0.90196078 0.09803922]\n",
            " [0.         0.33333333 0.98823529 0.8745098  0.        ]\n",
            " [0.         0.33333333 0.98823529 0.56862745 0.        ]\n",
            " [0.         0.3372549  0.99215686 0.88235294 0.        ]]\n",
            "A closeup of a sample patch:\n"
          ],
          "name": "stdout"
        },
        {
          "output_type": "display_data",
          "data": {
            "image/png": "[encoded data removed]",
            "text/plain": [
              "<Figure size 432x288 with 1 Axes>"
            ]
          },
          "metadata": {
            "tags": []
          }
        },
        {
          "output_type": "stream",
          "text": [
            "And the whole sample:\n"
          ],
          "name": "stdout"
        },
        {
          "output_type": "display_data",
          "data": {
            "image/png": "[encoded data removed]",
            "text/plain": [
              "<Figure size 432x288 with 1 Axes>"
            ]
          },
          "metadata": {
            "tags": []
          }
        },
        {
          "output_type": "stream",
          "text": [
            "y_train [shape (50000,)] 10 samples:\n",
            " [5 0 4 1 9 2 1 3 1 4]\n"
          ],
          "name": "stdout"
        }
      ]
    },
    {
      "metadata": {
        "id": "_WF62eKM5IjM",
        "colab_type": "code",
        "outputId": "b5be1e0b-dd48-4100-d071-b4a73ba63e22",
        "colab": {
          "base_uri": "https://localhost:8080/",
          "height": 51
        }
      },
      "cell_type": "code",
      "source": [
        "X_train_flat = X_train.reshape((X_train.shape[0], -1))\n",
        "print(X_train_flat.shape)\n",
        "\n",
        "X_val_flat = X_val.reshape((X_val.shape[0], -1))\n",
        "print(X_val_flat.shape)"
      ],
      "execution_count": 0,
      "outputs": [
        {
          "output_type": "stream",
          "text": [
            "(50000, 784)\n",
            "(10000, 784)\n"
          ],
          "name": "stdout"
        }
      ]
    },
    {
      "metadata": {
        "id": "ofeQxrDHg89S",
        "colab_type": "code",
        "outputId": "7314b0f2-cc0c-4daf-93d9-dbeafaba9c70",
        "colab": {
          "base_uri": "https://localhost:8080/",
          "height": 85
        }
      },
      "cell_type": "code",
      "source": [
        "import keras\n",
        "\n",
        "y_train_oh = keras.utils.to_categorical(y_train, 10)\n",
        "y_val_oh = keras.utils.to_categorical(y_val, 10)\n",
        "\n",
        "print(y_train_oh.shape)\n",
        "print(y_train_oh[:3], y_train[:3])"
      ],
      "execution_count": 0,
      "outputs": [
        {
          "output_type": "stream",
          "text": [
            "(50000, 10)\n",
            "[[0. 0. 0. 0. 0. 1. 0. 0. 0. 0.]\n",
            " [1. 0. 0. 0. 0. 0. 0. 0. 0. 0.]\n",
            " [0. 0. 0. 0. 1. 0. 0. 0. 0. 0.]] [5 0 4]\n"
          ],
          "name": "stdout"
        }
      ]
    },
    {
      "metadata": {
        "id": "qrIF8hqNhFCt",
        "colab_type": "code",
        "colab": {}
      },
      "cell_type": "code",
      "source": [
        "# Model parameters: W and b\n",
        "W = tf.get_variable(shape = (784,10),name = 'weights') ### YOUR CODE HERE ### tf.get_variable(...) with shape[0] = 784\n",
        "b = tf.get_variable(shape = (10), name ='bias')### YOUR CODE HERE ### tf.get_variable(...)"
      ],
      "execution_count": 0,
      "outputs": []
    },
    {
      "metadata": {
        "id": "mWayYz0lhHly",
        "colab_type": "code",
        "colab": {}
      },
      "cell_type": "code",
      "source": [
        "# Placeholders for the input data\n",
        "input_X = tf.placeholder('float32',shape = (None,784) )### YOUR CODE HERE ### tf.placeholder(...) for flat X with shape[0] = None for any batch size\n",
        "input_y = tf.placeholder('float32',shape = (None,10))### YOUR CODE HERE ### tf.placeholder(...) for one-hot encoded true labels"
      ],
      "execution_count": 0,
      "outputs": []
    },
    {
      "metadata": {
        "id": "K1P9fys9hOpS",
        "colab_type": "code",
        "outputId": "ddc26b82-cffb-4a04-c045-007836f494d2",
        "colab": {
          "base_uri": "https://localhost:8080/",
          "height": 173
        }
      },
      "cell_type": "code",
      "source": [
        "# write the code here to get a new `step` operation and then run the cell with training loop above.\n",
        "# name your variables in the same way (e.g. logits, probas, classes, etc) for safety.\n",
        "### YOUR CODE HERE ###\n",
        "# write the code here to get a new `step` operation and then run the cell with training loop above.\n",
        "# name your variables in the same way (e.g. logits, probas, classes, etc) for safety.\n",
        "### YOUR CODE HERE ###\n",
        "\n",
        "logits = tf.layers.dense(input_X,784,activation = tf.nn.sigmoid)\n",
        "logits12 = tf.layers.dense(logits,256,activation = tf.nn.sigmoid)\n",
        "logits13 = tf.layers.dense(logits12,256,activation = tf.nn.sigmoid)\n",
        "logits2 = tf.layers.dense(logits13,10)\n",
        "\n",
        "\n",
        "probas = tf.nn.softmax(logits2)\n",
        "classes = tf.argmax(probas,axis = 1) ### YOUR CODE HERE ### apply tf.argmax to find a class index with highest probability\n",
        "\n",
        "# Loss should be a scalar number: average loss over all the objects with tf.reduce_mean().\n",
        "# Use tf.nn.softmax_cross_entropy_with_logits on top of one-hot encoded input_y and logits.\n",
        "# It is identical to calculating cross-entropy on top of probas, but is more numerically friendly (read the docs).\n",
        "loss =tf.reduce_mean(tf.nn.softmax_cross_entropy_with_logits(labels = input_y,logits = logits2)) ### YOUR CODE HERE ### cross-entropy loss\n",
        "\n",
        "# Use a default tf.train.AdamOptimizer to get an SGD step\n",
        "step = tf.train.AdamOptimizer(0.003).minimize(loss) ### YOUR CODE HERE ### optimizer step that minimizes the loss"
      ],
      "execution_count": 0,
      "outputs": [
        {
          "output_type": "stream",
          "text": [
            "WARNING:tensorflow:From <ipython-input-9-9aa40a3df3fb>:14: softmax_cross_entropy_with_logits (from tensorflow.python.ops.nn_ops) is deprecated and will be removed in a future version.\n",
            "Instructions for updating:\n",
            "\n",
            "Future major versions of TensorFlow will allow gradients to flow\n",
            "into the labels input on backprop by default.\n",
            "\n",
            "See `tf.nn.softmax_cross_entropy_with_logits_v2`.\n",
            "\n"
          ],
          "name": "stdout"
        }
      ]
    },
    {
      "metadata": {
        "id": "SWv7TMAPiOvZ",
        "colab_type": "code",
        "colab": {}
      },
      "cell_type": "code",
      "source": [
        "from matplotlib import pyplot as plt\n",
        "from IPython.display import clear_output, display_html, HTML\n",
        "import contextlib\n",
        "import time\n",
        "import io\n",
        "import urllib\n",
        "import base64\n",
        "\n",
        "\n",
        "def clear_and_display_figure(fig, sleep=0.01):\n",
        "    img_data = io.BytesIO()\n",
        "    fig.savefig(img_data, format='jpeg')\n",
        "    img_data.seek(0)\n",
        "    uri = 'data:image/jpeg;base64,' + urllib.request.quote(base64.b64encode(img_data.getbuffer()))\n",
        "    img_data.close()\n",
        "    clear_output(wait=True)\n",
        "    display_html(HTML('<img src=\"' + uri + '\">'))\n",
        "    time.sleep(sleep)\n",
        "\n",
        "\n",
        "class SimpleMovieWriter(object):\n",
        "    \"\"\"\n",
        "    Usage example:\n",
        "        anim = animation.FuncAnimation(...)\n",
        "        anim.save(None, writer=SimpleMovieWriter(sleep=0.01))\n",
        "    \"\"\"\n",
        "    def __init__(self, sleep=0.1):\n",
        "        self.sleep = sleep\n",
        "\n",
        "    def setup(self, fig):\n",
        "        self.fig = fig\n",
        "\n",
        "    def grab_frame(self, **kwargs):\n",
        "        clear_and_display_figure(self.fig, self.sleep)\n",
        "\n",
        "    @contextlib.contextmanager\n",
        "    def saving(self, fig, *args, **kwargs):\n",
        "        self.setup(fig)\n",
        "        try:\n",
        "            yield self\n",
        "        finally:\n",
        "            pass\n",
        "\n",
        "\n",
        "class SimpleTrainingCurves(object):\n",
        "    def __init__(self, loss_name, metric_name):\n",
        "        self.fig, (self.ax1, self.ax2) = plt.subplots(nrows=1, ncols=2, figsize=(12, 4))\n",
        "        self.ax1.set_title(loss_name)\n",
        "        self.ax2.set_title(metric_name)\n",
        "        self.train_loss_curve, = self.ax1.plot([], [], 'r', label='train', lw=2)\n",
        "        self.valid_loss_curve, = self.ax1.plot([], [], 'g', label='valid', lw=2)\n",
        "        self.train_metric_curve, = self.ax2.plot([], [], 'r', label='train', lw=2)\n",
        "        self.valid_metric_curve, = self.ax2.plot([], [], 'g', label='valid', lw=2)\n",
        "        self.iter = 0\n",
        "        self.y_limits_1 = [None, None]\n",
        "        self.y_limits_2 = [None, None]\n",
        "        plt.close(self.fig)\n",
        "\n",
        "    def _update_y_limits(self, limits, *values):\n",
        "        limits[0] = min(list(values) + ([limits[0]] if limits[0] else []))\n",
        "        limits[1] = max(list(values) + ([limits[1]] if limits[1] else []))\n",
        "\n",
        "    def _update_curve(self, curve, value, label):\n",
        "        x, y = curve.get_data()\n",
        "        curve.set_data(list(x) + [self.iter], list(y) + [value])\n",
        "        curve.set_label(\"{}: {}\".format(label, value))\n",
        "\n",
        "    def _set_y_limits(self, ax, limits):\n",
        "        spread = limits[1] - limits[0]\n",
        "        ax.set_ylim(limits[0] - 0.05*spread, limits[1] + 0.05*spread)\n",
        "\n",
        "    def add(self, train_loss, valid_loss, train_metric, valid_metric):\n",
        "        self._update_curve(self.train_loss_curve, train_loss, \"train\")\n",
        "        self._update_curve(self.valid_loss_curve, valid_loss, \"valid\")\n",
        "        self._update_curve(self.train_metric_curve, train_metric, \"train\")\n",
        "        self._update_curve(self.valid_metric_curve, valid_metric, \"valid\")\n",
        "        self.ax1.set_xlim(0, self.iter)\n",
        "        self.ax2.set_xlim(0, self.iter)\n",
        "        self._update_y_limits(self.y_limits_1, train_loss, valid_loss)\n",
        "        self._update_y_limits(self.y_limits_2, train_metric, valid_metric)\n",
        "        self._set_y_limits(self.ax1, self.y_limits_1)\n",
        "        self._set_y_limits(self.ax2, self.y_limits_2)\n",
        "        clear_and_display_figure(self.fig)\n",
        "        self.ax1.legend()\n",
        "        self.ax2.legend()\n",
        "        self.iter += 1"
      ],
      "execution_count": 0,
      "outputs": []
    },
    {
      "metadata": {
        "id": "Rl_7JJElhUMF",
        "colab_type": "code",
        "colab": {}
      },
      "cell_type": "code",
      "source": [
        ""
      ],
      "execution_count": 0,
      "outputs": []
    },
    {
      "metadata": {
        "id": "3jUcZD2EhRwq",
        "colab_type": "code",
        "outputId": "1d5e1678-7f7c-49bb-aa24-90a820ab90fa",
        "colab": {
          "base_uri": "https://localhost:8080/",
          "height": 309
        }
      },
      "cell_type": "code",
      "source": [
        "s = tf.Session()\n",
        "s.run(tf.global_variables_initializer())\n",
        "\n",
        "BATCH_SIZE = 512\n",
        "EPOCHS = 20\n",
        "\n",
        "\n",
        "simpleTrainingCurves = SimpleTrainingCurves(\"cross-entropy\", \"accuracy\")\n",
        "\n",
        "for epoch in range(EPOCHS):\n",
        "    \n",
        "    batch_losses = []\n",
        "    for batch_start in range(0, X_train_flat.shape[0], BATCH_SIZE):\n",
        "        _, batch_loss = s.run([step, loss], {input_X: X_train_flat[batch_start:batch_start+BATCH_SIZE], \n",
        "                                             input_y: y_train_oh[batch_start:batch_start+BATCH_SIZE]})\n",
        "        batch_losses.append(batch_loss)\n",
        "\n",
        "    train_loss = np.mean(batch_losses)\n",
        "    val_loss = s.run(loss, {input_X: X_val_flat, input_y: y_val_oh})\n",
        "    train_accuracy = accuracy_score(y_train, s.run(classes, {input_X: X_train_flat}))\n",
        "    valid_accuracy = accuracy_score(y_val, s.run(classes, {input_X: X_val_flat}))  \n",
        "    simpleTrainingCurves.add(train_loss, val_loss, train_accuracy, valid_accuracy)"
      ],
      "execution_count": 0,
      "outputs": [
        {
          "output_type": "display_data",
          "data": {
            "text/html": [
              "<img src=\"data:image/jpeg;base64,/9j/4AAQSkZJRgABAQEASABIAAD/2wBDAAIBAQEBAQIBAQECAgICAgQDAgICAgUEBAMEBgUGBgYFBgYGBwkIBgcJBwYGCAsICQoKCgoKBggLDAsKDAkKCgr/2wBDAQICAgICAgUDAwUKBwYHCgoKCgoKCgoKCgoKCgoKCgoKCgoKCgoKCgoKCgoKCgoKCgoKCgoKCgoKCgoKCgoKCgr/wAARCAEgA2ADASIAAhEBAxEB/8QAHwAAAQUBAQEBAQEAAAAAAAAAAAECAwQFBgcICQoL/8QAtRAAAgEDAwIEAwUFBAQAAAF9AQIDAAQRBRIhMUEGE1FhByJxFDKBkaEII0KxwRVS0fAkM2JyggkKFhcYGRolJicoKSo0NTY3ODk6Q0RFRkdISUpTVFVWV1hZWmNkZWZnaGlqc3R1dnd4eXqDhIWGh4iJipKTlJWWl5iZmqKjpKWmp6ipqrKztLW2t7i5usLDxMXGx8jJytLT1NXW19jZ2uHi4%2BTl5ufo6erx8vP09fb3%2BPn6/8QAHwEAAwEBAQEBAQEBAQAAAAAAAAECAwQFBgcICQoL/8QAtREAAgECBAQDBAcFBAQAAQJ3AAECAxEEBSExBhJBUQdhcRMiMoEIFEKRobHBCSMzUvAVYnLRChYkNOEl8RcYGRomJygpKjU2Nzg5OkNERUZHSElKU1RVVldYWVpjZGVmZ2hpanN0dXZ3eHl6goOEhYaHiImKkpOUlZaXmJmaoqOkpaanqKmqsrO0tba3uLm6wsPExcbHyMnK0tPU1dbX2Nna4uPk5ebn6Onq8vP09fb3%2BPn6/9oADAMBAAIRAxEAPwD9/KKKKACiiigAooooAKKKKACiiigAooooAKKKKACiiigAooooAKKKKACiiigAooooAKKKKACiiigAooooAKKKKACiiigAooooAKKKKACiiigAooooAKKKKACiiigAooooAKKKKACiiigAooooAKKKKACiiigAooooAKKKKACiiigAooooAKKKKACiiigAooooAKKKKACiiigAooooAKKKKACiiigAooooAKKKKACiiigAooooAKKKKACiiigAooooAKKKKACiiigAooooAKKKKACiiigAooooAKKKKACiiigAooooAKKKKACiiigAooooAKKKKACiiigAooooAKKKKACiiigAooooAKKKKACiiigDxPxd/wAFFP2PvAmoXmn%2BK/ipc2gs9UbTReHwpqj2l5eLfw6fJb2lwlsYb2SO7nigkW3eQxOxD7drY2j%2B2f8As6R%2BObL4c3XjHUbfVLy6sLNlu/Cmpw29le3sUctpY3dw9sIbG8lSWIraXDxzkzRjy8uoPiVz%2Bxn%2B1bH4C8N/s66Zqfw9HgXwn8W9N8V22tXOo3r6rqtnb%2BLrXWxbyQC1EVrLHAlxFvEswuJFiJ%2Bzqzbeh8cfsffGzXfGPi3wPoup%2BFv%2BEA8c/F7QfHuq61dalcrrOnvp8mlTyWEVqtu0Mwll0mLbcNcRmJLhh5TmNSwB6Fa/t1fsv3cGr3w8f30Nno2n3N7LqV54U1OC0vYLedLeZ7G4ktli1HbNJHHi1aYlpEAB3rns/hT8ZfAXxp0m91fwJc6njTdQNlqVnrfh690q8tJxGkuyW1voYZ48xyxupZAGVwQSDmvmbTf2IPj5a6t4mtbTwl8ONN8MazoOp22reBV8Za1feHfFN5cXcEsdw2mTwCPQGCJcEvZyTnzLkMRL5Q3egfs4/sm%2BOvDGmXP/AAu3xl4hhgsfFa6n4L8M6H8ZPEOpQaLbC3tla2mvpmtZtTheeGSUQXUbxRLKY1BQnIB0kX7eP7Kk0fiC6HxNlW18N6Jqur32oy%2BHdQS0urLTSRfzWVw1uItSFuRiQWjTFSQCMkZ5vx3/AMFL/wBmXwh4Vl8TaPd%2BJtceDxF4b0yXTdP8Dav9qeLW78WdnfwxNaB7m1crO0c8IeOZoTFEzyvGjeKaH/wSx%2BI%2BjfBrXPgl5eiXX9m/DfxR4c8C%2BK9W%2BK/ia/LzajZT2VtI%2Bkz5sdLUQzFZjALjJGY0j4A7z4//ALEPxs8d%2BOH%2BIfw%2B1Pwo9zp/hz4cxaTp2r6nc20dzfeG/FE2szxSyRW0phhlidIklVJGDliYsAbgD1V/25/2ZFtteu4/G%2BpzJ4b8Sf8ACPakLbwfqsrPq/nPCdOt1S1JvLsOhJggEkgQrIV2MrGpqn/BQX9lDSbTRp5PH%2Bq3U%2Bv2Wq3WmaXpfgnWLy/ZNMuIrfUFks4LR7iGW3lmRZIpI1kT5iVwjleFtv2OvjToXha08QaFfeFZvFegftCaz8R9G0y61O5j0%2B%2Bgvl1C3NnPcrbNJDILbUZSJFhlCyxJ8rCvMNI%2BEf7S3wX/AG5vCGqeD9N8Dav478U%2BA/iX4l1jSNT128tdItftmt%2BFwlvBdpZyzN5Srb5kNuvnFZfli8wbQD6jsf2yP2adU8Gaz8QtK%2BKVvd6PoNxpMGoXtpY3MoLapDaTaeYVWMtcrcJfWvlvCHVmkKZ3I6r6bXwN8Nv2Q7XwR%2B1Z8Ff2dvBXxLsNdsPh58M9Ff432dmnD3ugLu8PPKqki2klutRnuUjf52i06PGVQGvvmgAooooAKKKKACiiigAooooAKKKKACiiigAooooAKKKKACiiigAooooAKKKKACiiigAooooAKKKKACiiigAooooAKKKKACiiigArzb4q/tdfs/fBPxlH4D%2BJPje4stR%2By2l1efZ9Bvru3023urh7a2nvbi3geGwilmjkRJLl41YxvgnY2PSa%2BQ/28f2Kv2o/2pNZ8Z6N4R%2BIWn/8I5rvhC0s/DFtqHxB1rSoNGvoXnkm8/TtPi8jU47ljApluZG8hVJWCXbscA9gh/br/ZUku9btpviqtrFoGn6hfXeoahot7bWVzb2EywXslndSwrDqAhldI3%2ByvKVd1U8sAdDwJ%2B2B%2Bz78R/EmneC/DXjC%2Bj1vVNTutPt9D1fwzqOnX0Vzb2kd5LHPb3dvHLbH7NLHMvnKgkSRShbIrwzQ/wBjX9rW8/ZXP7IXiDWvh5pWgaLpEn9ga1ZX99qF3qF9FqUN9YC5R7e3W2hjMRinKNO1xuDqIOYz1/jH4S/tp%2BNfiB4H%2BPWqaH8ME1/wZ4l1CS08HQeJtQWzGmXel/ZHLambAyTXAnHnAfY408s%2BVnK%2BawB2uh/t0/steJddsPDmh/EuW4utR0KfWotnh7UBFDpsM9zbzXk8pg8u1gSa0njaSZkUMEBP72Le3w9%2B3Z%2By74m8J6741sviFe21l4dsdPvdSj1fwrqdhctbX8jRWM0Ftc20c13Hcyq0UDQJIJpAUjLN8teO/s%2BfsI/tK/Bjw3q7xfFHwvY%2BKLj4J3fhXR/EWlxzSrY61Jq2rX0V6IZYgDAn263baWJ3RuuCAGbkrH/gnN%2B1HceNNR%2BImoa74div59G8Iz2dvrXxT1/xIw1jw7r39rQrLc6hbB/st3vlR/JSJbU7WjgmJY0AfUHw9/bC/Z2%2BJ%2Buy%2BF/Cnj%2BRdTttLvdQvdN1fRL3Tbizgs5Yorrz47uGJoHia4ty8UgWRVnicrskRj2nw98e%2BFvip4C0T4m%2BBr%2BS70XxFpNvqWkXU1nLbtNazxrLE5imVJIyUZTtdVYZwQDxXxx%2B3H8PfjP8Ybb4c/D3xh4x8IaH8UvFXjTUNFj8PeD724unh8D6lZNaa0vnSpDLMYoUS7N2YYIxPDbRBdxQyfbOnadYaRp8Gk6XZx29rawrDbW8KBUijUAKqgcAAAAD2oAmooooAKKKKACiiigAooooAKKKKACiiigAooooAKKKKACiiigAooooAKKKKACiiigAooooAKKKKACiiigAooooAKKKKACiiigAooooAKzPFWs3eh6el3aJGzNMEIkUkYwT2I9K068q%2BNPxgHhz41%2BC/gdLpaMnivQNb1VL4ykNFJp8mnIIguMEOt/IxOePJHB3HCdSnTlHn2bS%2Bbdl%2BJ04XB4nHTlChG7jGc3/AIYR5pP5R1sdH/wsPWv%2BfW1/74b/AOKo/wCFh61/z62v/fDf/FVg0V3ezh2OO7N7/hYetf8APra/98N/8VR/wsPWv%2BfW1/74b/4qsGij2cOwXZ0ieO9YbT5bs29tuSaNANjYwwcn%2BL/ZFQ/8LD1r/n1tf%2B%2BG/wDiqy4f%2BQLcf9fUP/oMtVaSpw7Bdm9/wsPWv%2BfW1/74b/4qj/hYetf8%2Btr/AN8N/wDFVg0U/Zw7Bdm9/wALD1r/AJ9bX/vhv/iqmTx3rDafLdm3ttyTRoBsbGGDk/xf7Irm6tQ/8gW4/wCvqH/0GWk6cOwXZqf8LD1r/n1tf%2B%2BG/wDiqP8AhYetf8%2Btr/3w3/xVYNFP2cOwXZvf8LD1r/n1tf8Avhv/AIqj/hYetf8APra/98N/8VWDRR7OHYLs6RPHesNp8t2be23JNGgGxsYYOT/F/siof%2BFh61/z62v/AHw3/wAVWXD/AMgW4/6%2Bof8A0GWqtJU4dguze/4WHrX/AD62v/fDf/FUf8LD1r/n1tf%2B%2BG/%2BKrxS4/bV/Y3tLh7W6/a0%2BGUUsTlJI5PHmnKyMDgggzZBB7U3/ht39i//AKO7%2BF//AIX2nf8Ax6uX65ln/P2H/gcP/kz31wpxY1dZdiP/AAnr/wDyg9t/4WHrX/Pra/8AfDf/ABVTJ471htPluzb225Jo0A2NjDByf4v9kV5F4H/ad/Zr%2BJviKLwh8Nv2hvA3iHVp0d4NL0PxbZ3dxIqqWYrHFIzEAAkkDgDNaHxs%2BN/hr4DeAbPxL4n0rVb2PV/GOj6JbQ6Rpc93IJryZoVdlhR2CqGZicclQg%2BZ1B2pzw1aHNTaku6aa%2B9NnmY3AZjltb2WMozpTtflnCcHbvacIO2j1tbTc9H/AOFh61/z62v/AHw3/wAVR/wsPWv%2BfW1/74b/AOKrwsfts/s4t4Wh8cp4s1dtFmmukGrL4M1Y20aWzRrcXEkgtdsVtG0qq1y5WEMsil8xyBa95%2B29%2Bz/4evrvSPGHjI213Z39/FcJp2i6leR20FrqElhJcXEiWgW3jWaPZJI/7qMn/WshWRtOSl2OO7PfP%2BFh61/z62v/AHw3/wAVR/wsPWv%2BfW1/74b/AOKry74tfGXTvhh8K9X%2BJUOg3l/Jp9ytjZaZLDJaNe30l0lpBCGlQbUkuJI1EwVkKtvXeuM8tF%2B1JPofwl%2BI3jv4ieAksdZ%2BGN7PZa9oWj6t9siubgWNtfQJbXEkUBcTQ3lsAXjj2u7KRhdxOSn2C7PoBPHesNp8t2be23JNGgGxsYYOT/F/siof%2BFh61/z62v8A3w3/AMVXzbD%2B2B8TpfEN38BrL4F6PN8SoNXc3Gh/8JvIumfYIdPiujdpfGx8xsteQQCM26/vS%2BWCKJGx/Af/AAUR8E/EzxXZxeEtG0dfD50Gz1PVLjVPF8FrrECXGix6xug0xoy11FFbXFp5jrKrK0xCo4jY0lGn2DU%2Bqv8AhYetf8%2Btr/3w3/xVH/Cw9a/59bX/AL4b/wCKr5h0L9sf4ian4fvLrWvgpoWiajH4Y0rxPB/bPxBS30220W9%2B05uL68e1BtpIPsrCWOOKdQZYtsjqXeOFv24vEa%2BF/h/44k%2BD2nQaZ46m063tIrrxoiX99PdXptmGl2oty%2BoRxRbbxpHNsDbSJIOkio%2BWl2DU%2BpP%2BFh61/wA%2Btr/3w3/xVTJ471htPluzb225Jo0A2NjDByf4v9kV8g%2BK/wDgobqnhTwi/jq/%2BD%2BnRaXrGl3WpeBry78YmFNQtLfV7LTpJb0/ZCLDIv4LhAv2jMQfcUZdp3PFX7cuteFfA9pqlh4I8GeIGuPDGs%2BLNSu/DvxJ%2B0aamk6S8Mdx9lu2slF1ck3S4iKRRqUYPMmVLJxp9g1Ppz/hYetf8%2Btr/wB8N/8AFUf8LD1r/n1tf%2B%2BG/wDiq%2BcPA37Yr/Fr4sa58OPhR4c8LalDpiXUNjLfePI7bULm4ht43817AW7yxWJmf7OblTI4kRj5BTDHlvEv7eHxF8FXENn41%2BF3w80ZLjx1deGoNd1f4szW2js9rp73VzKbuXSlI2TI1ps8vmZJBuGz5ny0uwan1x/wsPWv%2BfW1/wC%2BG/8AiqP%2BFh61/wA%2Btr/3w3/xVeD%2BKf2hPiJ4L8a%2BGNL1/wCEOnf8I94i1fTtHj12z8XCaae%2BuoHlJs7YW%2Bbm2i2HfLI8D7EkkEJVMtxevf8ABQ/w7p1x4xFh4JtFstD1zSNL8MazrXiRLGx1tryS5jku5Jmib7JaQtZ3TmbEvmRQ%2BYisHQMctLsGp9ZJ471htPluzb225Jo0A2NjDByf4v8AZFQ/8LD1r/n1tf8Avhv/AIqvnrxb%2B2fD4L%2BHfgLUJfAdrqeseO/E%2Bi2k9hofiWK7tNPsLvUYdNbU1vI4ytxAJr228sBUeXzl%2BWPbIY7Ufxn/AGh7r4uax8JNP%2BCngue403w6urR3qfEa7EaCW78m1iuQdIzC00cV7IPL87abQq2BIr0lCn2C7Pe/%2BFh61/z62v8A3w3/AMVWz4S8RXuvfaPtkUS%2BVs2%2BUpGc7uuSfSvDv2d/ip4r%2BM3w6/4TzxX4L07RDLqt5b6emla5JqFve20MzQpdxyyW1uxjlKM6fu%2BYyjgkPx7F8Nv%2BX3/tn/7NU1IQULpDTdzqKKKK5igpGYIpdugGTgUtMuGnWB2tY0eUITGkjlVZscAkA4Ge%2BDj0NAHl3gz9r/4YeLvgd4t/aDvdG8RaDoHgqfVE1uLxDpBt7xEsVLyyC3DNINyAMsbhZeQrRo%2BVGJ/w3F4c%2B1f8IkvwL8fHxsNYNg3w8EOl/wBqqosRfG63/bvsnkeQy/OLgnzD5WPMylcloP7NX7Sfi74J/F34I/FLQvA2hQ/EjUNcvdP1nQPGF5qb6fLfRnyg8E2m2okEcgjJxINw3cDHMQ/Zm/agj%2BNjftex2HgL/hPHvXtT4TbxLe/2UulHTUtwPt32DzTP9qQT/wDHsF8smLOR5pAPof4ceP8Awv8AFf4e6F8UfA9%2BbrRfEmj22qaTctGUMttcRLLExVuVJR1ODyOhqn4g8ZappOrzafbwW7JHt2l0bPKg9m96p/s6/Cc/Af4B%2BC/gq%2Bs/2lJ4U8LWGkzaiIvLF3JBAkbzbMnYHZS23JxnHam%2BLdSuLfxBcQxx25A2YL2sbH7i9ypJrWklKWqEx3/Cw9a/59bX/vhv/iqP%2BFh61/z62v8A3w3/AMVXlHiL9tH9lzwfrt34X8W/tL/DLS9TsJ2gvtO1HxPpcE9tKpwySRu4ZGB6ggEVT/4b0/Y6/wCjtvhL/wCFjpP/AMcrN4zLouzqQT/xw/8Akj26fC3FNWCnDL8Q4tJpqhXaaeqaaotNNNNNNprVNo9j/wCFh61/z62v/fDf/FUf8LD1r/n1tf8Avhv/AIqvKPDv7aP7LnjDXbTwv4S/aX%2BGWqanfzrBY6dp3ifS557mVjhUjjRyzsT0ABJrW%2BPHx40v4AfB3xF8ZvE%2BkS3lj4d0x7ua00zRlnnmxgKipHGzcsQC2MKCWbCgkbUqmGrxcqbjJLs0/wAmzgx2W5nllRQxtCpSk1dKpCcG1tdKcINq%2Bl0mr6Xuej33jvWLWdYkt7YgwxvyjdWRWP8AF71D/wALD1r/AJ9bX/vhv/iq8k1D9tr4ITLqF3p2oa3eLpF9DpmoRWfw01W4mjvfszTPAI0smd3jSNmkVQfKBTfs3puxrn9vr4DabdzpfeL7W7heSM6P/wAI74YvdUmvoW0y21IyCK2smJxbXUcv7syL5Z3FgQ6JajC2xxanun/Cw9a/59bX/vhv/iqP%2BFh61/z62v8A3w3/AMVXA3/x/wDBln8M9W%2BL0N4lxoGj6G2rzahFooEdxZi0F2JYHeNVnUxEHchIzlSQysBzPwW/aX8Z%2BPdV1rwp8TPhdp/hnW9H8OaX4gNhp17HqaSaff8A2tYCX%2BywkTrJY3KPEFZQUUq7hxh8kOwrs9k/4WHrX/Pra/8AfDf/ABVTX3jvWLWdYkt7YgwxvyjdWRWP8XvXyf4c/wCCjfiHxDo2iQj4P%2BH4de8Y6f4e1LwZpo8TxPbT2WsPOtu95cLZZtJE%2BzuHRI51LvGkbyljt6LVP20fiprXhPwx47%2BHnwb8Iataa74iXwxcWlx4xaO6TWLfUJ9Pvo7ZU0yVLm3gNpcTiYyRFoYXby02gFcsL7D1Poj/AIWHrX/Pra/98N/8VR/wsPWv%2BfW1/wC%2BG/8Aiq8a8KftXTXev/E%2Bz%2BJXge28J6Z8Np42l1K8lt7hryya3ab7U0cUZEIKqWWMM7lWQsEcmNdP9mb9oLXv2gvhFB8TdZ%2BHI8LXcmuazptxoN6sE81q9hql1YESMsaqHb7NvZBkIWKBnC72fJDsK7PUv%2BFh61/z62v/AHw3/wAVR/wsPWv%2BfW1/74b/AOKrL/ti7/542v8A4Axf/E0f2xd/88bX/wAAYv8A4mn7OPYLs2r7x3rFrOsSW9sQYY35RurIrH%2BL3qH/AIWHrX/Pra/98N/8VVTVdVuo7lVWK2/49oT81nEesSnutVv7Yu/%2BeNr/AOAMX/xNJQjbYLs1P%2BFh61/z62v/AHw3/wAVR/wsPWv%2BfW1/74b/AOKrL/ti7/542v8A4Axf/E0f2xd/88bX/wAAYv8A4mn7OPYLs1P%2BFh61/wA%2Btr/3w3/xVTX3jvWLWdYkt7YgwxvyjdWRWP8AF71i/wBsXf8Azxtf/AGL/wCJqzquq3UdyqrFbf8AHtCfms4j1iU91pckb7Bdlv8A4WHrX/Pra/8AfDf/ABVH/Cw9a/59bX/vhv8A4qsv%2B2Lv/nja/wDgDF/8TR/bF3/zxtf/AABi/wDiafs49guzU/4WHrX/AD62v/fDf/FUf8LD1r/n1tf%2B%2BG/%2BKrL/ALYu/wDnja/%2BAMX/AMTR/bF3/wA8bX/wBi/%2BJo9nHsF2bV9471i1nWJLe2IMMb8o3VkVj/F71D/wsPWv%2BfW1/wC%2BG/8Aiqqarqt1HcqqxW3/AB7Qn5rOI9YlPdarf2xd/wDPG1/8AYv/AImkoRtsF2an/Cw9a/59bX/vhv8A4qj/AIWHrX/Pra/98N/8VWX/AGxd/wDPG1/8AYv/AImj%2B2Lv/nja/wDgDF/8TT9nHsF2an/Cw9a/59bX/vhv/iqmuvHesQQW8q29sTNCXbKNwd7L/e/2RWL/AGxd/wDPG1/8AYv/AImrN9qt0ttZsIrb5rYk5s4j/wAtXHHy8dO1JwjfYLst/wDCw9a/59bX/vhv/iqP%2BFh61/z62v8A3w3/AMVWX/bF3/zxtf8AwBi/%2BJqnrnjrSfDNmdQ8SaxpGn246z30dvEg/wCBMAKHGEVdpFQhUqzUIJtvZJNt%2BiSb/A6D/hYetf8APra/98N/8VR/wsPWv%2BfW1/74b/4qvE/GH/BQb9jvwHvXxN%2B098O4pI/v29vq1lcSr9Y4tzfpXMaP/wAFZf2BtcmMFl%2B034VRg20m8017dc/WWBRj3ziuCeZ5RTnyyrU0%2B3PH/wCSPqcPwHx1i6Ht6GVYmUO6w9dr7/Zf5n0zdeO9Yggt5Vt7YmaEu2Ubg72X%2B9/siof%2BFh61/wA%2Btr/3w3/xVeUaX%2B3N%2ByT4qt7NfDf7UHw0u5Gtzuhj8S6aZFPmPxsL7l4wcYHXPesb4pf8FDP2QfgzbG4%2BIP7RXgu3cJv%2ByWUsF7clexEFsskmD2O3mreOyyNL2kqsOVdeeNv/AEo5qXCPF1fGLC08uxDqvaKoVuZ/L2Sf6eZ7h/wsPWv%2BfW1/74b/AOKrpvD%2Boz6tpEOoXCorybtwQEDhiO/0r4g/4ef%2BL/iXmD9lD9ib4hePg/8Ax76xqOg2%2Bh6TNnoVurpT9eUFfWP7NXiD4s%2BKvgnoniD45eCNN8N%2BKbkXDanomk3y3MFpi5lESrKoAcmIRsxAxuLAVhSzHBYyXLh7y68yjLl%2BUnFJv0udOd8GcQ8N4WNbNIRpNvl9m6tJ1lo3eVGFSdSEVazc1CzaVruy7qiiiug%2BXCiiigAooooAKKKKACiiigAooooAKKKKACiiigAooooAKKKKACiiigAr5J/bd1%2Bfw/8A8FCP2Xgcrb6na%2BONPmk7BmsLGZFP1aAY%2BlfW1fHv/BVKL/hHfiT%2BzR8UB8v2H45WmjNJ/dXUbaWM59AfKrzM3k6eDU19mdN/JVIX/M%2B88NqUMTxT9Wkr%2B1oYumv8U8HieX8YHuVFFFfRn5%2BFFFFAFqH/AJAtx/19Q/8AoMtVatQ/8gW4/wCvqH/0GWqtJdQCiiimAVah/wCQLcf9fUP/AKDLVWrUP/IFuP8Ar6h/9BlpMCrRRRTAKKKKALUP/IFuP%2BvqH/0GWqtWof8AkC3H/X1D/wCgy1VpLqB5lcfsVfsb3dw91dfsl/DKWWVy8kkngPTmZ2JySSYckk96b/wxF%2Bxf/wBGifC//wAIHTv/AIzXmmof8Fi/%2BCcWl38%2BmX/7Rflz20zRTJ/wiOsHa6kgjItMHkHpUP8Aw%2Ba/4Jr/APRyH/ln6z/8h1888fwlfWpQ/wDKX/yJr/xFDFR0/t2at/1F1f8A5oPZ/A/7MX7Nfwy8RReL/ht%2Bzz4G8PatAjpBqmh%2BErO0uI1ZSrBZIo1YAgkEA8g4q98c/hRqnxf%2BG9vomheKYNHv9K8Y6Jrdje3emNeQ%2BZZXX2kRvEssTMriMpkSKV3BucbT5x8D/wDgpL%2BxZ%2B0f8RLX4UfBj4z/ANs6/ewyy21h/wAI7qVvvSNC7nfPbogwoJ5YZxxk16148%2BJehfDXR9JbxDZ3jQa94ssdGiu7eNDHaTzpcCFpizAqjyqkAKhj5k8Qxgll9TB1curUObBuDhf7HLa//bqSvt5kSz2pxC/rU8U8Q17vO6kqr015eaU5vS%2B17K%2B2p82fFX/gmUnxQ%2BFOlfCi9%2BLGlvaaf4L1bQfO1nwSt/8AZpbyfzl1CyR7lVtLpD8hkIkZk4UxH5q23/YC1C%2B8PeO9M1b4wwvd%2BOvDmu6Zc3Nt4aMcdpJqWqXOoNMsbXTFljNwYwhfLBM7hnA2bb/goZ8EJvGHhLwlcaXq9qPG1zDFoF9eXWmxrcCe7mtbWVLc3n2qaKZoldZIoZFWOeJpDGd4Tmvgd/wUGfx18PfDV74i8B6prfizXvD%2Bk30uheEdIhiSFp9DttTupka6vvngj89RyVkzIkapKfnPX7lxantPxZ%2BFN98YPhXq/wAOtf8AE8Vrc3lytxpeqWOnkfYZoLlbmykMbyN5rRSRQlvmUSFDgRhsDjW/ZV1vXfht498EeOviVa3l78TLq7vPFeraXoDWvl3bWNpY2klnG9zKIFghsoDtkM3mOu4lckG98Iv2iNZ8T/sf6N%2B0r4/8KG2ml%2BGlj4n1NLHatvcvJpkd7MtsplkkRFZmQCXDcdWHzGv%2Bzp8Yviz4u8Y3/wAO/jNH4ek1JPBWh%2BJ7S58N2E9tDHFqD3sb2brNNMZHhezP74FBIsw/dIVOXow1MqL9j34mRa9efHey%2BOulQ/Eq41d/tGvDwU7aaLCbT4rQ2kdib7euDZwTh2uGPmh8gowjXD0r/gnR4S8P2%2BneA9D8ZxJ4GguNHvNU0a40TzNSvLrTdHh0iArfiZRFE1tbW4ePyWZisuHUSsBoad%2B0z8eZPCninwnq2keEbLxWnxw0/wAGaFLb291c2FpbzaVb6iZpwZYpLqSOGa4X5TAJGROIwSawdZ/bd%2BJFr4X8L6PonhnQ77xV/wALQtvDvjuQRTLZWOmjxWnh%2BS9iTzC8cty7b7eJ3YLtnJaUWzK8rlDU6XwZ%2ByZ8YPBBh8Sab%2B0jbv4l0zRtH0PR9Rk8Hf6G%2BlaeLoCG9thd7riWY3bvJLFLbjfDAURAjK9SL9inxzb%2BBLH4UxfH2N/DE11b3viPTJvCilmu01ibVZJtNdblf7ODyzeWFdbkRxwQ%2BXtZC7RfCj9ov45fETxJ4w8HT6/4UtPEtvqXie18G%2BE9Y8B6vpazQ6frMtlb3jalLcSQ6hH5CwSypbRKc3KfNECM1D%2B1H8f4vh3F4x0618F6xZWXxq0fwle%2BKLaxu7e01nTbvVdM06W4sbbz5SrpNfXMG97h0D2DMFdZAqv3Q1NbQP2MPFvhqaA6V8aLIQ%2BGtI1HTfh5BceD0mXS7a81G1vZEvBJcMt%2BFFnBbqUFsyxbyG81hKtXxl%2BwPrnxA%2BHOr6D4j%2BKPhq5ufEfiS/1LxPPdfDaC4ijnvbeO3%2B0aWktw0mm3UMNvhJTLOpeeWSSORimyb47/ALUPxQ/Z8%2BLcEHi2z0O78J3Vlqt9HY2uh30VzHZWWj3V6Zf7TlcWk1089o0f9nxxmYQyGfcUic1D8OP2k/jp49%2BBeteKLXxf4MOraVfaZea0tl8NvEM9xpljPZTy7I9JDi51ItMFSK5hkSKaPzJFUGIxuny7BqbvhT9jq08G/FvTPF2h%2BLrK38MaJ4svPE%2Bk%2BHbfQdl3HqV1pkunTCS988iS2Mc8sgi8kP5nl5lKxqlaGkfs9/EbwT8JvDHgX4efFnR4dY0O4u7jU9X1/wAFjULfVZrrz3uZmgFzFJDI807ybkn/AImVg4bjyPRv%2BCgfj5r7wZqHjI%2BDdHh1zT/BzSeHNstxe65JrV2tpcXGn3CXHliGzeRGdfLnPyOrPHuRz31l8Q/2sbjxX488N2PjLwBqlr4PtbGKbVrbwBqiNb30oF1cQi1i1C4lvXisHgkWGMxNJJdxKHG1gWnHoGpV%2BH/7FfjD4eeJ/DgtPi9pOreGPC3gqw8K6HpWt%2BFLlr7T7CK2WC7e2u4NQijgubnblp1t9yKscajamGrW3/BOjwJ4R8QXnib4W%2BNdS02e3fw/L4Ts/EGoajrdno8ulNP5YMN3fHzYmjnMYRWiaJQfLdS3HH6N/wAFA/iDrJ8O6be6j4U0SZdPu9R8S6nqfhXVZbaa2TXbjTLcMkEjNoZeO0llma9Mn2SV0glUuHI9i8M/Ej45eKfjd8TPg9O/hTSf7B0PRdR8IXy2FzfbUvJtSiLXi%2BdB5pIsVcJGY9nmlS8m3cRcrDU5K4/4Jr/DTVvhrFa6j4316HxMvi/S9X1fXtG17VNOtrwQ%2BIrjXpLZbC2vUhjj86e6jgY75LYTK6u7xgn0vTvg3q%2BkXfxM1rTPHbRan4%2Bvxcadfiw%2BbRFTSrWxijUeZ%2B%2BCSwS3I5T5rhlwMbj4bP8AtcftMaPoWj6p4h8U%2BELfw3rmo%2BIbmPxlp/wi1vUoV07TWtILaaS2tNSdoFneS/uBO0pjNukLYQ7zXY/Db9pfxr4n/aQ1f4d%2BK/G/h%2Bx0FfEC6d4St0%2BH%2BpqfEMZ0W1v/ADYNYa6Nk0heW4YQLGzmK2bGcGQJctw1PYvhp4G034Y/Djw/8NdGYGz8PaJaaZaFY9gMUEKRLhcnbwg4ycV6H8Nv%2BX3/ALZ/%2BzVy9dR8Nv8Al9/7Z/8As1FX%2BGwW51FFFFcZYUUUy5ubaytpLy8uEhhhQvLLK4VUUDJYk8AAc5oAfRXnPgn9rT9n74geDde%2BIOgePTDo/hnR01fW7zWdIu9NFvprxSTR34W7iiaS1eOKVkuEDROIn2s2xsUZP20f2eofDkfiOTxFrgMusNpaaN/wg%2Br/ANrC6W1F2yHTfsv2xQLYrOXMIQRsr52sCQD1SuD8Z/8AIy3P/AP/AEBa7Dw94g0TxZoFj4p8M6rBf6bqdnFd6ffWsoeK4gkQPHIjDhlZSCCOoIrj/Gf/ACMtz/wD/wBAWtqHxky2PKPEX7I37KPjDXbvxR4t/Zi%2BHmqanfztPfajqPguxnnuZWOWeSR4izsT1JJJqn/wxF%2Bxf/0aJ8L/APwgdO/%2BM1xHxF/4KsfsD/Cfx3q3w0%2BIHx5/s/W9DvpLPVLL/hF9Vl8idDhk3x2rI2D3Uke9Yv8Aw%2Ba/4Jr/APRyH/ln6z/8h15NTHcKxqNTqUOa7vf2d79b3V73vfzLXiXisMvYrO5x5fd5frdVWtpayrpK1rWSVrWsrWPXfDv7I37KPg/XbTxR4S/Zi%2BHml6nYTrPY6jp3guxgntpVOVeORIgyMD0IIIrV%2BPnwsb43/BbxR8Ik14aW/iLRZ7GLUja%2BeLV3UhZDHvTzArYJTcu4Ajcucjyf4df8FWP2B/ix470n4afD/wCPP9oa3rl9HZ6XZf8ACL6rF587nCpvktVRcnuxA969k%2BK3xL0L4PeAr34j%2BKLO8m03TXhOoNZRozW8DzJG9wwZlHlRK5lkOciONyAxAU%2BjgK2V16cngpQcb68nLa9uvKkr2/AiXEVXiN%2B2njHieTTmlVlV5etrynUa72TXe3U8h8ffsI6l4u0u20rxB8SdD1EyeM7zxLq1lq/ggXemXjX1mImT7HJdFfMhZi8MsjSqjdY361lfAL/gnve/BW70K91D4yRau%2Bh6WthH5Xho2wliTQLDRoyc3MmGCWCysejNIVAUAGum%2BM//AAUQ%2BBvwk1CWfxXpmrpp1rq9xpEurm602CB5LJbWO6khW4vI5bpY5ZniMcEck2%2B2mAiICF%2Bf8Ift3Eazqfh7xh4Vu9S1dPE2qaToeg%2BGNLjWW/MXibVdJtgs11eLH5hh0/zZQ4jRdkjh8MIl61yC1PTPA/wFj0T9nK3/AGafGviGHWNGg8FW/hk3Frp7WkstqmnpaSs%2BZZBuciRxjAQOq/MVLtnfBn4B/EH4b%2BI7zxx4w%2BLGn%2BIdc1DSdI0S6vY/DLWcZ0rThdtBGI/tUmLlpr2eR58lDuCiFQBix%2By18bfFHx3%2BHDeNPE3gubS5G8Qa/Zxny0jSOOy1u%2BsIYXQzSOLgQ2sbSnHll3bYcfKvJ/AL9pT4mfEbx54ag8ZWWgjQfiD4c1vW/CsOmWM8V1psNhfWkKRXUjzOty80N5HIWSOERtE6YcMGFaaBqZWhfsF3ekaT4nmufF/ge61nxFbadaTO3wls00u8t7a6kuJWv9PWcJd3Ny0p86aN4BmOExpFsIbt/AP7JGl/CyT4e2Nh4sSa08E/2vqU1lFpKwQ3mq6rulmuokV9tqiNdXypCA4VLnbu%2BTLcB4I/a3%2BJXjr433fwWTxL4N03VNS1LxJYaVosmhXVxf8Ah59MvPLtp9QQXkYnivbZWuYwotsK6bGnXdIJda%2BOn7WU/wAAL/4zaZ46%2BHcty2vSab4Pib4e34j8Qo8tvp%2Bm4T%2B2M2/2i88xhLvkVre4gfbGVcNPu3DU6KP9krxD4s8eeO9V%2BNPxD0rXPDXja7066OiaBo2oaLeWU%2BnvE1m638Gps5KGJWbaibnAI2qCh6/9m34A6T%2Bzf4AvvAOj%2BJ9U1aK98Wa1rZutW1O7upE%2B36hPdrCGup5n/drKqMwYea6vMyh5nzl%2BEPid8YG/ae1D4L%2BObLw3/Y8HgW11fTrzSo7j7TcXBm8md5PMbZFGX3hIQHZVQMZWLlE9Tq0kIKKKKYFrWP8Aj7T/AK9YP/RSVVq1rH/H2n/XrB/6KSqtJbAFFFea/tI/tbfA39lTw5Frfxa8WiK7vTs0fQLCP7RqWqSk4Edvbr8zksQu44QEjLDNZ169DC0nVrSUYrdt2X9f0kzvyzK8yzrHwwWX0ZVq03aMIRcpN%2BSXZatuySTbaSbXpRIAyTXAeK/2y/2QdE1RrLV/2qvhxbTwRRRzQT%2BN7BXR1jUMpUy5BBBBHUEV4CPhf%2B2J/wAFACL3493uo/B34U3HMXgHRrrGv65D2F/cAf6LGw6wqM4JVlyA9e06f%2BwD%2BxB4Qs7TRdH/AGTPh60VrY26RyX3hO1upm/dL8zyzI8jsepZmJJOSTXkrGZnjJc2EpRjDpKrzJy81CK5kvOVm%2BkUj7irw7wVw7H2Oe42pWxP2qeD9hONL%2B7Ur1X7Kc%2BjjQU4ws06snoqd3/wUE/Ydss%2Bd%2B1l4AbH/PHxRbSf%2Bgua0/Bv7aP7IvxBlFt4O/aY8DX05bAtk8T2yzH6Rs4Y/XFXbT9k/wDZZsMfYP2afh/Bjp5Pg2xX%2BUVZfjP9hv8AY4%2BIMZTxX%2BzD4GuGK4M8Xhu3gmx6eZEqv%2BtXbiBa3ovy/er8dfyMb%2BE8/d5cwj/evgpW/wC3Eo3%2BU0z0%2BzvbPUbZL3T7uKeGQZjlhkDKw9QRwalr5ivP%2BCRX7G9jcvqHwy03xd4EupG3NdeDfG19bMG9QJJJFH4DFMH/AATY8SWw8vTf%2BCiP7RMca8Is/j5JSB2GTBzR9bzmGksKn/hqxt/5NBMP7C8OsR71DO6lNdquCq8330K9SH5H1VrH/H2n/XrB/wCikqrXzPqX/BOj4n2twqW3/BSP47n/AEeIg3HiOGQjManHMXQZx%2BFYnwz%2BMXxe/Yr%2BOdp%2Bzf8AtafES%2B8U%2BDfGN5j4a/FHWAolS7IG7Sr9wAokJ5jc/ezjodsUrNa1CUfrdB04N25uaEkm9ubl1Sb0u9LtJ2umWuBstzKhV/sLNIYyvTi5%2BxVGvRqThHWbp%2B1vGpKEbzdOL53BSlFS5JRPrOiiivaPzswPin8TvBnwY%2BHWs/FT4h6wlhouhWD3eoXL/wAKKPuqP4nY4VVHLMwA5NfNnhDx5/wVU/ak8E6N8RvB0fwx%2BFHhXXbE3WhLqtjd6lri2byyGKSWNsW4ZlwwHBwwyB0FL4pu/wDwUM/axX9nvTWM/wAIvhLqUV58Q7hD%2B58Qa4pzBpWejxQkFpRyMgqQCI2r7IvUSOxsI40CqtoQqgYAHmycV4C9rnGJk41JQoQbiuV8rnJfE7pN8sfhVrXlzO9kj9Sm8D4fZRQhVwlGvmWISqyVen7WOGoyjejD2blGHtqqftpual7Om6MOTmnK3yn/AMO%2B/jl4/wDn/aE/4KLfFHW1fmay8G/Z/DltJ/sMluH3L7ZFXtD/AOCRf7BWmXY1XXfg9c%2BIr8/6zUPEviS/vJJD6srTbD/3zX0rRXQshyi950VN953m/wDyeUvyR5lTxS8QOR08Pj54eD%2Bzh1Tw0fS2Hp0br1lI828H/sc/smeANj%2BDv2avAthIn3biHwta%2Bd%2BMhQufxNdRrHwj%2BFHiGEW2v/DHw9fRqu0R3miwSqB6YZDxXQ0V3wwmEpw5YU4pdlGKX3KJ8riM%2Bz3GV/b18XVnP%2BaVWrKX3uo2vk0eZeLf2E/2LPEltaPq37KPw9Z5bYmSaHwjaQyMfNkGS8casTgDvUvwv/Y9/ZY%2BC93/AGj8L/2f/Cej3YfcL%2B20WI3Cn2mYFwPYNgV6lqH/AB6WP/Xqf/RslVayhl%2BXxmqiowUl15Y3%2B/lOurxZxXWwjwtTMMRKk94OvWcX6xdVpryat5BXeeDP%2BRatv%2BB/%2BhtXB13ngz/kWrb/AIH/AOhtW9f4DwI7mpRRRXKWFFFFABRRRQAUUUUAFFFFABRRRQAUUUUAFFFFABRRRQAUUUUAFfIX7KXxC8ZyfEnwL4l1n4i%2BItUufHnw/wDGWteOtKv9bub23sL6w1nToYVt7aR2jshb/abq18qBYxJtG8O8W6vr2uX0v4IfBbRPE1/410X4Q%2BF7PWdUvkvdT1a18P20d1d3KFik8sqoHkkUu5DsSw3tg8mgD5k/4Jl%2BMfi3quvLa/FPxdqd%2BPEPwf8ADHibTTd%2BNLvW11L7TJeiTVJBc8aVcTgRbtPti9rHs/dTS7W2Tf8ABbJRpP7H2lfElnCf8IZ8T/Dut%2BYc/JsvBFnjp/rq%2Bm/AXwh%2BE3wrl1Gf4YfC/wAO%2BG31e4Fxqz6DokFmb2UFiJJjEi%2BY3zN8zZPzH1NeDf8ABYvwuPF3/BOT4maUY9/k6Ot7jH/PtItzn8PKz%2BFebnMJVMpxCjvySa9UuZfjFH3PhliKeF8RconU%2BF4ilGX%2BGpP2Uv8AyWq18z1X%2Bz7T/oOWv/fEv/xFH9n2n/Qctf8AviX/AOIrkvg74n/4Tf4ReFfGnmb/AO1/Dlje7853ebbpJn/x6ujr3qclUpqaejSf3pP9T4nFYephMVUw9T4oSlF%2BsZSi/wAYstf2faf9By1/74l/%2BIo/s%2B0/6Dlr/wB8S/8AxFVaKuz7mBpxWNqNInT%2B2LYg3MRLbZcD5ZOPuZ//AFVW/s%2B0/wCg5a/98S//ABFEP/IFuP8Ar6h/9BlqrSSfcC1/Z9p/0HLX/viX/wCIo/s%2B0/6Dlr/3xL/8RVWinZ9wLX9n2n/Qctf%2B%2BJf/AIirMVjajSJ0/ti2INzES22XA%2BWTj7mf/wBVZlWof%2BQLcf8AX1D/AOgy0mn3AP7PtP8AoOWv/fEv/wARR/Z9p/0HLX/viX/4iqtFOz7gWv7PtP8AoOWv/fEv/wARR/Z9p/0HLX/viX/4iqtFFn3A04rG1GkTp/bFsQbmIltsuB8snH3M/wD6qrf2faf9By1/74l/%2BIoh/wCQLcf9fUP/AKDLVWkk%2B4Fr%2Bz7T/oOWv/fEv/xFH9n2n/Qctf8AviX/AOIqrRTs%2B4Fr%2Bz7T/oOWv/fEv/xFc/8AGT4MeGPjj8G9b%2BFniPxdc6fbanPavHqujStFd6fcQyGa3uYHeF1WaKaOOVGKMoaMEg9DrVah/wCQLcf9fUP/AKDLSadhnh%2Bqf8E%2B/hJcapa3fhr4q%2BIfD1lZy%2BHZrfRtGmgFqs%2BiNGbCQ%2BdZSSHakSxtEX8orlhGJMSCp4T/AOCcvwi8A6dpFt4G%2BMnirSbzRbCzsbTV7W6gNybSDSodLMDb7Fk2yw28LuQgcSIGjaPAFe40UcqC5y/w0%2BAPg74Z/CDTvgZB4xm1jw5pfhmz0C0tNZQMfsVvaJa7WaK3j3mRE3OTn5mbaFXCjH%2BEP7K/hr4OXUup6T8Ztf1W/lsdN01tR1x4ZZhpdgJ/sun5SzQGJDczsZCDO7SEtK3GPQKKOUVzyjSv2HdCttG8Uvqn7S3jTUrvxD4z0/xMupXUWlxy6Xq9tDFDHdW/k6XGuTDaxxNHIskTJvDId5Jp6/8A8E5v2TvGHgzTvC3jfwhoeu31jrVvqk3inWtEt7nVb2dNXOrzLNO9oR5VxdPP5sSKiFLmZEWMMMe2w/8AIFuP%2BvqH/wBBlqrSUUO55L41/Yl8N%2BPp9Xm8RftJeOZDf6Zqtho5XUod/h%2BHUZEe6%2BxymxMhYqgiRrhpzFGSsewUviX9jKHxP8LdI%2BEdz%2B1T4vtdM0PXNO1PT307StDt2jOn3NpdWVuETRhEsMM9nG6qsak7mVmZNqr6zRT5QueYax%2Bxh4B8V%2BKV1rx38XfEPiDShfTX7%2BFNWuY205r6XT30%2BW5wlosy74JZiYVlFuHlZ1iVtpDNG/Yk8O6Nps%2Bt6d%2B0h44TxGl5pi2vi77ZaG7gtbO2vYLeyMZsPs08IS9umxNBK5eUyF96RsvqVWof%2BQLcf9fUP/oMtJxC55Hpf7FPw80eDwzodn8XvEx8PeGhpsg8KTaiJLDUbuxuWure8nD2plEwuSs7eTJEkjxR70YIBWzefsxeEpPDWtaFo/xU1vSrvWvF58Strmm3e28tb7zI2UJutmieJViSLypo5FMY2sGruaKfKFzxq/8A%2BCfvwm1Dw7J4cf4seI0TVLe/tvGdxHPD5viq3vL2S9uYb0myIVWmmnx9mFuUWd0QopAHU%2BHP2aYvDvxr8SfG4ftD%2BJbu68T6ZBp93o1zBYLZW9vbvcvbLEYtOScGI3c%2B1mlYtuG8vgV3lFHKFzz%2B7/ZI8PD4J%2BHPg74P%2BO/i3w1pXhXw9D4dhl0O9hDX1h9lWDZcpPZyRNJthUrNHGkkZMmx0EjK0Ok/si%2BB9H8YaDrsPxZ8QTaL4WvIrzw34LurwSaXptzHYNYpJGTa/acLC8mImnaEO5cRhsEeoQ/8gW4/6%2Bof/QZaq0lELlr%2Bz7T/AKDlr/3xL/8AEV0fgC3ig%2B1%2BVfRTZ8vPlBxj73Xcorkq6j4bf8vv/bP/ANmqaqfIwW51FFFFchYVz3xc8FXHxK%2BFHif4c2moizl1/wAPXumxXZBPkNPA8Qfjngtn8K6GigD5R8G/Bf4vePtN8cJ8Xv2bryxtPEnwL0vwHJ4dm8UWMaX1xZRaq9wxubWaVoLaZtRSGCUIZk2SyPFH8oPK6b%2Bzh%2B0LYahqXx%2B1LwR8Vr/xVd%2BLYG0fb4w8MReJLKxi0VrSSWcbTpLxzSkxNFGd6xpFcAmcMo%2B2KKAOD/ZZ%2BFms/A39mb4efBbxFfx3WoeEvBGlaPf3EErPHJNbWkULlGf5im5DtLc4xnmrHi28t4vEFxHJpVvIRsy7tJk/Ivo4H6V2lcH4z/5GW5/4B/6AtbUdZClsVf7QtP8AoB2v/fcv/wAXR/aFp/0A7X/vuX/4uqtFdNkQWv7QtP8AoB2v/fcv/wAXWX428P8Ahb4h%2BDNX8AeKvC9pc6Xrml3Gn6lbl5f3tvNG0ci/f7qxH41aoosgPCvF3/BOr4R6r4Ktfh5F8Q/GtpA3gWfw7ruo22o2pu9diu5DeTXN1I9s2LhruWS4ZoREkjuRIkifJU8X7BvwttLt9d07xt4qttbGpy6lZ6/FdWhubO8k1m%2B1Z5o1a2MJJl1G5hKvGyeSwXbuBc%2B8ax/x9p/16wf%2BikqrUqMbDuzkvgZ8HdD%2BAnhNPBXh/X9V1axW81C8Ya7PHJJJc3uo3N/PMzxRxsWMl06AZ2hETgtuduf8Bfss%2BC/hx4ql8VeHPFmv77e0vrPwzZ3M9u8Hhy0vb2K8u7ezHkbikssEI/0hpmRIkSMxgYr02iq5UK5wujfAXRNN%2BKN18VNU8beJNYuPI1CLQdN1fUUlttAF7JHJcm0KxrKSWjQJ58kwhQGOIRxkobn/AAz38PtF8B/Df4W2q3raX8M49Hk0XzLkb7v7Fp/2aBbnACuAGEh2BD5kaEEAEHrqtax/x9p/16wf%2BikpcquO55xF8CVi/aMb9ow/FTxM8z6T/Zh8KtHp/wDZf2TLOI8i0F1xKxl3faN27gkp8lej/wBoWn/QDtf%2B%2B5f/AIuvPP2kfj54M/Zj%2BCuvfGvx3Lmy0WzLxWqMBJeXDHbDbx/7ckhVR6ZyeATXzx4C/Ys%2BP37WHg7TviB%2B3l%2B0V4tEOtWy3cvwq8JyjSNNsI5PmW1uWi/eXJVSN24hlbI3NjJ87FY6VLELD4em6lRrmauoqKvZOUne13eySbdnZWVz7HIuFcNjsqlm%2Ba4uOEwin7NScJ1alWajzyhRpw5eZwi4ucpThThzQUpOUlE9b%2BNX/BST9j34G6n/AMItrnjXT9b8RNJ5UHhbwik%2BqahLL/zy8uB2Eb%2B0jJXGRft%2B/tM%2BJYxc/Dv/AIJWePLmGUbrdvEmuW%2BkOynoWWWRih9Qeleu/BX9mP8AZ9/Z00z%2Byvgn8ItD8OqY9ktxY2Q%2B0zL/ANNJ2zLL/wADY13dYrCZxX96riFT8qcU/vlUu38opHoyzrw8ytezwOVTxfepiq04X/w0cLyRivKVapLzPm%2B//aP/AOCoPiGdf7N/4Jw%2BDvD5aGPYfEHxYiu9q7F2k/ZcdscdR0OTVeST/gr141GyWP4A%2BCbdujWser6jdp/32/lGvqLWP%2BPtP%2BvWD/0UlVaFlFSS/eYqq/SSj/6TBfmT/r5g6P8AumSYGm%2B7o1azX/g7EyX3xfofL7fsj/t8eMG3/Ej/AIKWajaQv96w8HfD6xsdnss5ZpD%2BIruf2dP2Ffgn8AfFVz8U9YGp%2BP8Ax7eMftHjzx7fve6ii4wI4SCqQIBkDYobBwWIwB7PRWtLJsvpVVUcXKS1TnKU7PuuaTSfmlddGjlx3iJxXjsFUwcasKFGorShQo0cOpR/lk6NKE5RfWMqji7LmUrFr%2B0LT/oB2v8A33L/APF1Z1W%2BtVuVDaPbN/o0JyzS/wDPJeOH7dKzKtax/wAfaf8AXrB/6KSvSsrnxAf2haf9AO1/77l/%2BLo/tC0/6Adr/wB9y/8AxdVaKdkBa/tC0/6Adr/33L/8XR/aFp/0A7X/AL7l/wDi6q0UWQGnqt9arcqG0e2b/RoTlml/55Lxw/bpXDfHn4N/C79pH4V6t8Hvip4JtL3SNXtykm15BLbyDlJ4mLnZKjYZWweRyCCQew1j/j7T/r1g/wDRSVVrOdGlXpOnUV4tWaezT3TOrBY3GZbjKeLwlR06tOSlGUW1KMotNNNappq6/wCHT%2BYf2TPj98QPgJ8TIv2Cf2ubiHUNdgt2f4Z%2BPrtpVTxdpqdIpG34F7EuFZerAZO44eXqv29/2mvE3ww8IaT8EfgRolpcfFT4l3TaT4Mt0kkJsFI/f6lJlyFjgQltxBG7BIKq2Oo/at/Zd8DftX/C6TwF4quJtO1G0nW98M%2BJLH5bvRdQj5iuYWBBBBxlQRuGRkHBHmv7F/7J/wAbfB/xD1v9pT9snxhp3ib4k3llFoWkXWnc22naTAAMxDaoSS4cNLJgDG7jG51r52dDNaC/s6ndwl8NW%2BsIfajLW7ml7tOWt07y1h7369h8w4EzKp/rdjOSGJo61MFytQxGJ/5dVaaS5Y4ecr1MVSvH2coOFNOniUqXrf7KvwA8Dfsp/A/Rvg14S0uG7NjGZdW1e4Mnn6pfSfNPdSnfyzv9dqhVHCivTr6%2BtVtrMnR7Y5tiQC0vy/vX4Hz/AI8%2BtZlWtQ/49LH/AK9T/wCjZK%2Bgo4ejhqUKVJWjFWS7JI/JcyzLHZxmFbH42o6larJznJ7ylJ3bfz6KySSSSSSR/aFp/wBAO1/77l/%2BLo/tC0/6Adr/AN9y/wDxdVaK2sjhLX9oWn/QDtf%2B%2B5f/AIuj%2B0LT/oB2v/fcv/xdVaKLIDTvr61W2sydHtjm2JALS/L%2B9fgfP%2BPPrVb%2B0LT/AKAdr/33L/8AF0ah/wAelj/16n/0bJVWkkrAWv7QtP8AoB2v/fcv/wAXXa%2BEpEl8P28kcCRg78IhOB87epJ/WuArvPBn/ItW3/A//Q2rKskolR3NSiiiuYoKKKKACiiigAooooAKKKKACiiigAooooAKKKKACiiigAooooAKKKKACvKf23fC/wDwm/7KvjvwaI951bwnqdmq46mSxnQfqa9WrnviZbw3nhwWlzGHjln2SIejKUcEflSlTVaDpvaSa%2B9NfqdeX4yeX5hRxcN6c4TXrCcJr8Yo%2BZ/%2BCc/if/hLv2FfhTq5k3mPwVZWZbOebdPs5/8ARVe018xf8Egbie2/Yc0TwTeSF5/CviDWtHnLdQ0eozuAfosiivp2pySo62T4eb3cIX9VFJ/ij6bxJwcMB4h5vQh8KxNe3%2BGVWU4v5xqJ/MKKKK9M%2BKLUP/IFuP8Ar6h/9BlqrVqH/kC3H/X1D/6DLVWkuoBRRRTAKtQ/8gW4/wCvqH/0GWqtWof%2BQLcf9fUP/oMtJgVaKKKYBRRRQBah/wCQLcf9fUP/AKDLVWrUP/IFuP8Ar6h/9BlqrSXUAooopgFWof8AkC3H/X1D/wCgy1Vq1D/yBbj/AK%2Bof/QZaTAq0UUUwCiiigC1D/yBbj/r6h/9BlqrVqH/AJAtx/19Q/8AoMtVaS6gFFFFMAq1D/yBbj/r6h/9BlqrVqH/AJAtx/19Q/8AoMtJgVaKKKYBRRRQBah/5Atx/wBfUP8A6DLVWrUP/IFuP%2BvqH/0GWqtJdQCuo%2BG3/L7/ANs//Zq5euo%2BG3/L7/2z/wDZqir/AA2NbnUUUUVxlhRRXNfGbw74j8YfB/xX4S8HXn2fV9U8NX1ppVx5mzyrmW3dIm3fw4dlOe2KAF8F/GP4Q/EnR9Q8Q/Dv4qeG9fsNJmeHVb7Rdct7qGzkRdzpK8TssbKvJDEEDk1ky/tQfs0Q%2BA4finN%2B0R4FTwxcXxsoPEbeLbMWElyFLGFbjzfLaTCk7A2cAnHFfNHgvwPH8VvCXxG8Nah8HfH/AIe8O%2BIv2bdF8ES6VF4OuLK9kv7S31n7XbWyXUaQl4Yr63iildhbzu%2BxJHWNscLfeCvjz4l%2BI03xv8U6x8QdH0fUfFcnleNPBHwbu7TVrd08NpZF4tCvIL2aK3nYiB5p4ZG32KlGijkicAH6D2l3a39rFfWNzHNBNGskM0ThkkQjIZSOCCOQRXD%2BM/8AkZbn/gH/AKAtM/ZP8O%2BIPCH7LXw18J%2BLPBsPh3VNL8AaNaal4ftpWePTLiOxhSS1Vnd2ZY2UoCXYkLyzdTb8WyaWviC4FxZ3Dv8AJuZLlVB%2BRexQ/wA62o/EKWxh0Va87Rf%2Bgfdf%2BBi//G6PO0X/AKB91/4GL/8AG66b%2BRBVoq152i/9A%2B6/8DF/%2BN0edov/AED7r/wMX/43RfyANY/4%2B0/69YP/AEUlVa09Vl0gXK%2BZY3JP2aHkXSjjylx/B6VW87Rf%2Bgfdf%2BBi/wDxuknoBVoq152i/wDQPuv/AAMX/wCN0edov/QPuv8AwMX/AON07%2BQFWrWsf8faf9esH/opKPO0X/oH3X/gYv8A8brwn/gov%2B0Pr3wu8C6V8HPgfazTfFL4myxaJ4IhW6H%2Bibok8/UHATKpbxNuL9AxUkbQwHLjMXSwWHlXqXtFbLdvRJLu22kl3Z7XD2RY3iXOaOW4SynUdrydowik5TqTf2YU4RnOcukYvq0n5hef8Z//ALbI0xf9J%2BEvwI1YPdfxQa/4rA4T0eO0UnP%2B2SDuWQY%2Bu64r9l/4A/Dj9lz4HaD8FfB9hdSxaVa/6dqDXKiTULt/mnuX%2BQnc8hZsEnaMKDhRXf8AnaL/ANA%2B6/8AAxf/AI3XPlmFq4elKrX/AItR80/J9IrygrRXfV/aPZ41z3BZpj6eCyy6wOEj7KgmrOUU7zrSX/PzEVOarPqk6dO9qaKtFWvO0X/oH3X/AIGL/wDG6PO0X/oH3X/gYv8A8br0r%2BR8YGsf8faf9esH/opKq1p6rLpAuV8yxuSfs0PIulHHlLj%2BD0qt52i/9A%2B6/wDAxf8A43ST0Aq0Va87Rf8AoH3X/gYv/wAbo87Rf%2Bgfdf8AgYv/AMbp38gKtWtY/wCPtP8Ar1g/9FJR52i/9A%2B6/wDAxf8A43UF54w%2BH95qP2S31eCeaOGJHjh1eIspEajaQFJBHQ%2B47dKlySav/X4ibit2Moq0JtEIyLC6/wDAxf8A43R52i/9A%2B6/8DF/%2BN1V/IZVoq152i/9A%2B6/8DF/%2BN0edov/AED7r/wMX/43RfyANY/4%2B0/69YP/AEUlVa09Vl0gXK%2BZY3JP2aHkXSjjylx/B6VW87Rf%2Bgfdf%2BBi/wDxuknoBVoq152i/wDQPuv/AAMX/wCN0edov/QPuv8AwMX/AON07%2BQFWrWof8elj/16n/0bJR52i/8AQPuv/Axf/jdWb6XSBbWe%2BxuSDbHaBdKMDzX6/Jzzmk3qgMyirXnaL/0D7r/wMX/43WJ4%2B%2BKPwg%2BFWgv4p%2BJviuy8PabH96%2B1rXYLaLPpukUAn2HNKdSNOLlJ2S6uyX3tomc4U4OU2klu27JfN2Ro0V8z6v8A8FTvhF401Kbwv%2ByF8CfH/wAY9UikMbXHhu1NrpUMnpNfXEKrGP8AaCsp9aqr%2B3n%2B0R8G/wDTP2vP%2BCf/AIu0nR5P3g8RfD3XINegs4zzi5iiQPFs6NJkgn7q4xnyXn%2BV3vGblFbyjGUoL1mouP4td2jxnxFlF7xqOUVvKMZygvWcYuP4td2j6s1D/j0sf%2BvU/wDo2SqtcJ8FP20P2R/2mdPsz8Ffi5put3ItiX0ldTWC%2BhG9yd9tNGso69dgH5Zq18ff2nv2c/2YfCR8Z/G7xpHolq2RaQTX6vc3jj%2BCCFIzJK3ThQcZycDmu2OOwbw31hVI%2BzWvNzLl%2B%2B9v62PQWPwMsK8SqsXTWvNzLl%2B%2B9v62OxrvPBn/ACLVt/wP/wBDavg%2Bfx9%2B3H%2B3Q6w/B7w5qHwG%2BGdx9/xR4jjWbxPq0J72tsAFslZejuSwyrox5Wvsb9mD4QeGvgN8C9C%2BFHhHV9a1Cx0pbgrf%2BItSN5e3MktzLNLLNMVXezSSO3QAZAAwBXJSx7xsr06clT6Tl7vM/wC7F%2B81/eaiuye5jgcxlj6rdKlJUraTl7vM/wC7F%2B81/eaitrJ3ud9RRRW56oUUUUAFFFFABRRRQAUUUUAFFFFABRRRQAUUUUAFFFFABRRRQAUVm%2BM/FmjeAfB%2BreOvEczR6doumT39/Ii7isMMbSOQO5CqeK8V8M/tuXeneBPG/jL46fCkeF5fBfw0tPHs1hpOu/2m1xo9zFeuibmgg23atYTo8IDoC0e2Vw/AB75WD8Q/%2BQLF/wBfS/8AoLVzH7NPxt1n47%2BCr3xTrWjeFrWS01RrNX8HeOofENjLiGJ2H2mKKIpKjyNE8TRgq0eQXVlY9P8AEP8A5AsX/X0v/oLVdP40J7HxZ/wTQzoGofHn4avx/Ynx81yW1j/uW1yIZYh/6FX1DXy/%2ByZ/xTH/AAUF/aa8Ct8sV1eeGdas1/vefp7iZv8AvtQK%2BoK5Mi93LVT/AJJVI/8AgNSa/Jo%2B%2B8UP3nGM8V/z/o4Wt/4MwmGk/wAYyv53CiiivYPz4tQ/8gW4/wCvqH/0GWqtWof%2BQLcf9fUP/oMtVaS6gFFFFMAq1D/yBbj/AK%2Bof/QZaq1ah/5Atx/19Q/%2Bgy0mBVooopgFFFFAFqH/AJAtx/19Q/8AoMtVatQ/8gW4/wCvqH/0GWqtJdQCiiimAVah/wCQLcf9fUP/AKDLVWrUP/IFuP8Ar6h/9BlpMCrRRRTAKKKKALUP/IFuP%2BvqH/0GWqtWof8AkC3H/X1D/wCgy1VpLqAUUUUwCrUP/IFuP%2BvqH/0GWqtWof8AkC3H/X1D/wCgy0mBVooopgFFFFAFqH/kC3H/AF9Q/wDoMtVatQ/8gW4/6%2Bof/QZaq0l1AK6j4bf8vv8A2z/9mrl66j4bf8vv/bP/ANmqKv8ADY1udRRRRXGWFFFFABRRRQAVwfjP/kZbn/gH/oC13lcH4z/5GW5/4B/6AtbUPjJlsZdFFFdRIUUUUAWtY/4%2B0/69YP8A0UlVatax/wAfaf8AXrB/6KSqtJbAFFFeXftS/tbfC79lHwjBrPjN7nUta1ab7N4X8JaRH52o61dEgLFBEMkjcVBcjC5HUlVOWIxFDC0ZVa0lGK3b/r7krtvRJs9DKspzLPMxp4DL6Uqtao7RjFXbe/kkkk3KTajGKcpSjFNrqPjN8avhj%2Bz78PL/AOKXxd8W22jaLpyZmurhuXY52xxoPmkkbGFRQWPYV4T%2Bx14G8d/Hr40a/wD8FB/jr4RvdHvNbso9I%2BFvhzVYdk2jeHkUbbhkP3Jrk/vD3CscErIAK3wZ/ZJ%2BKPx%2B%2BIdh%2B1R%2B35HbXOrWb%2Bd4J%2BF0Enm6V4WQ4KySj7tzedMuchSOM4QR/WWsf8faf9esH/opK8mjTxGZ4mGIrx5KUHeEH8TdrKc10td8sN1fml71lH7zMMZlHBWVYjKMsrKvja8fZ4ivB3pU6d1KWHw7tepzOMVXr6Rmo%2Byop0%2BepU57x7478JfDDwXqnxD8d63DpujaNYyXepX1wcLDEi5Y%2BpPYAckkAAkivmTwx/wVS/tHQLTxt4n/AGH/AI2WPhzVIRc6T4h03wouoW01q3MczmNwYwy4YDDdeCRyc34nXFx/wUj/AGlZf2fdBnd/gv8ADHVo5viJqELkReJtajIaPSUYffhhIDS47jHB8pz9g21tb2dvHaWkCRRRIEiijUKqKBgAAcAAcYpRrY7M68pYWr7OlD3U%2BVS55J%2B89Wvdj8Kad5S5nslf8SjXzDNcROeEq%2BzpQvFPkjP2kk/efvNe5G3KmneUuZ3tFX%2BdfCf/AAVk/YJ8UXv9k3nxzi0G/U4msPFGkXenPEfRmmiVB/31Vn4h/wDBUj9ibwJdx6Lo/wAX4vGOr3Cg2ei%2BAbV9YuLg4ztU24aMN7M617d4s8BeBfHtl/Z3jnwXpOtW%2BMeRq2nRXKY/3ZFIql8Pvg78I/hLbS2fwr%2BFvh3w1FOxaaLQNEgs1kJOcsIUXPPrWvss%2B%2BH2tO383JK//gPPy/j8jb2PEfw%2B2pW/m9nO/wD4Dz8v3v5HgOo/tT/8FBvjncKn7O/7DyeDNPlt4lg8R/GbV/sjAeWoDNp1vmccfMPmI5qMQf8ABYD4egXpvfgv8QrdvnmsvLvdKu1Y87In/wBUVHIDPyeM96%2Br9Y/4%2B0/69YP/AEUlVaSyqtNc1TFVXLupKKXpFRcfvv6h/Y9afvVcXVcu6lGCXpCMHH7%2Bb1Plv/hvf9o/4efJ%2B0J/wTf%2BJGmpHxLfeA7q28Rwgf3z5BQqvfnJAqGT9v8A%2BOfxqkOjfsafsW%2BLtZcnZN4n%2BIUQ0LSrR%2B/%2BsJkuCp4ZE2tnpnv9VUU3l%2BZP3frkuX/BT5vlK1vnyX7A8tzV%2B59dly/4KfP8ppWXryX7Hyn/AMMRftT/ALQf%2Bl/tqfthakNOm5m8BfCmM6TpuO8UtywM9zGfRwDxw1dBqv8AwR9/4JxpHDpw/Zos9kdnAN417UVdiYlJLMLkEkkkkk19GVa1j/j7T/r1g/8ARSULIspbvVpKo3u6nvv75Xt6JRXkOPDuTO7rUVVk95VP3kn853t6JRXkfKn/AA5y/YDtjnQfhZrGlHsdP8baquP%2B%2BrhqD/wSc%2BBGn8%2BDfjN8YPDhH3TonxIuU2/TzA9fUNFP%2BwMk6YeC9Fb/ANJcQ/1byDphoL0XL/6S4ny9/wAO4viBo3/Il/8ABRr4922PuLrPiuLUQv4PEuRUbfAb/gp58J2Nz8Kf2y/C3xAtl%2BZNH%2BJ3hH7MR6j7VYnzGJ7ZAAr6loo/sPAR/hOcH3jUqL85SX3pi/1fy6OtJzpvvGpUX5zmvvTPmHUv20f20/hTcKn7SX/BPDxDdW0UEQfXPhVrMOtpKojX5xaZWZBjn5mzXrf7N/7UXwj/AGqPCF34t%2BFWqXROm372Ws6Tqlm1rfabcr1inhflG9DyDg4OQQPTdY/4%2B0/69YP/AEUlfJn7XXwa%2BIXwC%2BKH/DwD9lnQXvdXs7VYfij4KtuF8U6SnWZFH/L5Co3K2Msq45wUkwqLMcrgq3tHWpL4k4x51H%2BaLilzcu7i43avZ3VnjWWZ5RH27qutSXxRcY86j/NGUUubl3cXG7jez5lZ/VNFct8FvjL8Pf2gfhjpHxe%2BFuupqOia1aia1nXhkPRo5F/gkRgVZTyGUiuh1bVtL0HSrnXNb1CG0srK3ee7urmQJHDEilmdmPCqACSTwAK9uFWnUpKpCScWrp9Lb3v2se7Tq0qtJVYSTi1dNPRq1737W1PMP2yv2ntM/ZW%2BDNx41g0s6t4j1O6j0rwX4dhBaXVtVm%2BWCFVHJXPzNjnapA5Kg%2BTeDP8AgnN8b/EPgXRPEXx1/wCChPx0t/FmpWH2rX7Lwr45W00%2B0uXlkZ4LePyW2xoTtGDgkEgKCFFX9lzSdU/bk/aJn/bz8eafMngjwy9xpPwS0a8jIEiBilzrLoejyspRM8gL0zGrH7E1D/j0sf8Ar1P/AKNkrwKOHhndR4qum6W1ON5K661Hyyi3zP4b7QSdryPnqGGp5/Uli8Qm6O1KN5RTV9aj5ZRb52vcu9IJO15nyr/w7Cgk5u/2/wD9pqb1D/Fbj8hb1p%2BBv%2BCWX7J3h3xEvjX4jaVr/wATddjOItY%2BKGvSaxIqjovlvthYDj70ZPvX0bRXZHIsojJS9inbvzS/CUpL8Dsjw9kkZKXsItr%2Bbml%2BE5zX4FbSNH0jw/psOjaDpdtZWdugS3tLSBY4olHRVVQAo9gKs0UV6qSSsj2EklZHlP7Qn7BX7Jn7RS2usfEn4M6YdZeAyL4i0hTY6isglfbJ9otyjuRgEbyw9q5v4F/8E5f2dvgl4zPxOvjr/jvxZGVWx8UfEXVzqt5YRJxHFAXUJEEHCsF3gcbscV9Cah/x6WP/AF6n/wBGyVVrz3lWWTxCrujHnve9lv37Nro2m10aPOlk%2BUzxSxLoQ51rflV7930bXRtNro0Fd54M/wCRatv%2BB/8AobVwdd54M/5Fq2/4H/6G1ddf4D047mpRRRXKWFFFFABRRRQAUUUUAFFFFABRRRQAUUUUAFFFFABRRRQAUUUUAZvjLwno3j3whqvgbxHA0una1ps9hfxK20vDNG0bgHsSrHmvCtG/YY8Qat4R8X%2BDvjR8ZLTxNB4z%2BGdv4B1S4s/CpsZV0a3gvI4WXddTKLovf3Eksu3ZIREFiiCfN9D0UAebfAL4G%2BJvhXrPizxt498dadr3iDxff2k%2Boz6J4dbSrKJLWzitYVS3a4uG37Y8s5lO7KgBVRVHX%2BO7q6s9IjltLmSJjcgFo3KnG1uOK2qwfiH/AMgWL/r6X/0Fqun8aE9j408N6rqnhL/gsR4lsl1K4QeLvgTZ6g0omYeZLa6mbcLnPJCHP0r6j/tzWv8AoMXX/gQ3%2BNfKnxyP/CK/8FT/AIGeIPujxT4L8S6Kzf3vs0SXYU/ia%2Boa48pSjPE0/wCWrL/yZQn%2BrPvuPf32HyXF/wDPzAUF86M8RQf/AKRFfItf25rX/QYuv/Ahv8aP7c1r/oMXX/gQ3%2BNVaK9iy7H58acWsaudInlOq3O4XMQDee2QCsmR19h%2BVVv7c1r/AKDF1/4EN/jRD/yBbj/r6h/9BlqrSSXYC1/bmtf9Bi6/8CG/xo/tzWv%2Bgxdf%2BBDf41Vop2XYC1/bmtf9Bi6/8CG/xqzFrGrnSJ5TqtzuFzEA3ntkArJkdfYflWZVqH/kC3H/AF9Q/wDoMtJpdgD%2B3Na/6DF1/wCBDf40f25rX/QYuv8AwIb/ABqrRTsuwFr%2B3Na/6DF1/wCBDf40f25rX/QYuv8AwIb/ABqrRRZdgNOLWNXOkTynVbncLmIBvPbIBWTI6%2Bw/Kq39ua1/0GLr/wACG/xoh/5Atx/19Q/%2Bgy1VpJLsBa/tzWv%2Bgxdf%2BBDf40f25rX/AEGLr/wIb/GqtFOy7AWv7c1r/oMXX/gQ3%2BNWYtY1c6RPKdVudwuYgG89sgFZMjr7D8qzKtQ/8gW4/wCvqH/0GWk0uwB/bmtf9Bi6/wDAhv8AGj%2B3Na/6DF1/4EN/jVWinZdgLX9ua1/0GLr/AMCG/wAaP7c1r/oMXX/gQ3%2BNVaKLLsBpxaxq50ieU6rc7hcxAN57ZAKyZHX2H5VW/tzWv%2Bgxdf8AgQ3%2BNEP/ACBbj/r6h/8AQZaq0kl2Atf25rX/AEGLr/wIb/Gj%2B3Na/wCgxdf%2BBDf41Vop2XYC1/bmtf8AQYuv/Ahv8asxaxq50ieU6rc7hcxAN57ZAKyZHX2H5VmVah/5Atx/19Q/%2Bgy0ml2AP7c1r/oMXX/gQ3%2BNH9ua1/0GLr/wIb/GqtFOy7AWv7c1r/oMXX/gQ3%2BNH9ua1/0GLr/wIb/GqtFFl2A04tY1c6RPKdVudwuYgG89sgFZMjr7D8qrf25rX/QYuv8AwIb/ABoh/wCQLcf9fUP/AKDLVWkkuwFr%2B3Na/wCgxdf%2BBDf410fgC%2Bvb37X9svJZdvl7fNkLYzu6Zrkq6j4bf8vv/bP/ANmqKqXIxrc6iiiiuQsK5r4zDxmfg/4rHw5Mn/CQ/wDCNX39g%2BV9/wC2/Z38jb7%2BZtxXS0UAfBfwXT4Ma58O/it4B/Z2%2BIlj4W8N67%2BzppFvNqugRvJJa%2BJfsus/b7jyLf8AfzanDbtYvdKo%2B1cW4bDlayfDGh/Dzxz8CPiZFY/CL4S3XhzVvHnh7w78NI/CljBrfh/R9X1SKw026vtOkuLWOOTymuI55DHEiebDNG26RZWb9CqKAMnwD4G8LfDDwLovw18DaTHp%2BieHtJttM0ewiJ221rBEsUUYzzhURVH0rB8Wx6W3iC4NxeXCP8m5UtlYD5F7lx/Ku0rg/Gf/ACMtz/wD/wBAWtqPxClsVfJ0X/oIXX/gGv8A8co8nRf%2Bghdf%2BAa//HKq0V028yC15Oi/9BC6/wDANf8A45R5Oi/9BC6/8A1/%2BOVVrjvj58dvh1%2BzZ8KdW%2BMXxS1gWek6TBuYLgy3Mp4jgiXI3yO2FUepySACRnVqU6FKVSpK0Yq7b2SW7OrA4LGZljKeEwlN1KtSSjCMU3KUpNJJJbtt2/yV2sb9t39qfwn%2Byz4At9SsLG61/wAZ%2BITBpvgPwfa24M2sag8aLGmA%2B5Y13K0jY%2BUEAEsyg%2BSeFv2Xv%2BCkmveHLLXPG3/BTiTQNYvLdZtS0TTPg7pN5bWEzDLQRzPKjSqhO0OVBOM1c/ZK%2BBXxN%2BJ3xMl/b0/a30QW3jPWtOSDwL4Smy0fg/RWQeXGAel1Kh3SPgMN7LhSzIPpOw1LTtUhNxpl/Bcxq7I0kEodQwOCuQeoPBHavDoYapmz%2BsYiU4QfwQUpQfL/ADS5WnzS3UX8MbJrmbt%2Bl5hnWB4AhHJsphQr4mLvia9SjRxEXU29hQ9rCpBUqOqlVir1qvNJS9lCmp/N/wDwyb/wUHX/AFX/AAVovf8AgXwE0U/%2B3NdR%2Bzj%2Bwv4S%2BE/xBvvj58a/i3q3xP8AidqCmI%2BM9a0KG2WwtsECCytUmaO0XBOdhydzY2hip9upGZUUu7AADJJPAFddLJcDSqxqPmk46rmnOaT7pSk1ddHa66W3PCxviLxRjMDVwilRowqrln7DDYfDynC93CU6NKE3BtLmhzKMrLmUkrFvydF/6CF1/wCAa/8AxyvnX/goN8e/GEGsaF%2Bxx%2BzJq0p%2BKPxEtI0%2B3CEBPDOjCNVuNUlKvlCFDLGOCXztJZVDY/xU/wCCiFlrHjK5%2BB/7E/w%2Bl%2BLXjmE7L2bTZgmh6IScb7y%2B%2B5wc/IhJYqV3K3FdX%2ByV%2Byf4s%2BCmreI/jR8e/Ftn4o%2BKvjuSK48S67ZRMLezthGvkadaB/mW3iUKBkAttXI%2BVcc2JxbzOf1TBybTbU6i2iusYy2c38Pu35LttppI/JsVjXm0ng8DJ8rdqlSO0Y/ajGWzqS%2BH3b8l3JtNRR6B%2Bzp%2Bz38Jv2Yvg9o3wY%2BG73cen6Tb4kuJbJPOvZ25luJSJPmkdssewyAMAADt/J0X/oIXX/gGv/xyqtFe1So06FKNOmrRikklsktj3aNGlh6MaVKKjGKSSWyS0SLXk6L/ANBC6/8AANf/AI5R5Oi/9BC6/wDANf8A45VWitLeZoaeqxaQblfMvrkH7NDwLVTx5S4/j9KreTov/QQuv/ANf/jlGsf8faf9esH/AKKSqtJLQC15Oi/9BC6/8A1/%2BOUeTov/AEELr/wDX/45VWinbzAteTov/QQuv/ANf/jlWdVi0g3K%2BZfXIP2aHgWqnjylx/H6VmVa1j/j7T/r1g/9FJStqAeTov8A0ELr/wAA1/8AjlHk6L/0ELr/AMA1/wDjlVaKdvMC15Oi/wDQQuv/AADX/wCOUeTov/QQuv8AwDX/AOOVVoot5gaeqxaQblfMvrkH7NDwLVTx5S4/j9KreTov/QQuv/ANf/jlGsf8faf9esH/AKKSqtJLQD4%2B%2BJuhS/8ABMj44XH7QHw/t764%2BBfjnVFPxJ0C0st3/CJ6jIQq6tbRKx/cOSFlQYxxgH92q2/2sfHdt%2B238WtF/YL%2BA/jSebwve2Nvrnxh8W6TsK22iuFkt7CGRXKmW6BU9f8AVlThlLgfVXiDQNE8V6FeeGPEuk29/p2o2sltfWV3EHinhdSro6nhlIJBB7GvPP2Wv2Qfgf8AsdeEdR8G/BHw/NaW2q6m99fT3tyZ55WPCRmQjJjjX5UU9BkklmZj89VyjFe0eGpSSw03eS6x6yhH%2B7Ue%2B3L7yjpPT5itkuL9o8LRklhajvOOvNHrKEP7lR76rk99R0naPpfhjwn4F8F%2BG7Dwh4Ugew0zS7OO00%2BxtrBFjt4Y1CoijzOAFAA%2Bla99FpBtrPffXIAtjtItVOR5r9fn45zWZVrUP%2BPSx/69T/6Nkr6BRUUktkfTRUYxslZIPJ0X/oIXX/gGv/xyjydF/wCghdf%2BAa//AByqtFVbzGWvJ0X/AKCF1/4Br/8AHKPJ0X/oIXX/AIBr/wDHKq0UW8wNO%2Bi0g21nvvrkAWx2kWqnI81%2Bvz8c5qt5Oi/9BC6/8A1/%2BOUah/x6WP8A16n/ANGyVVpJaAWvJ0X/AKCF1/4Br/8AHK7XwkIF8P24t5HdPn2s6BSfnbsCf51wFd54M/5Fq2/4H/6G1ZVl7pUdzUooormKCiiigAooooAKKKKACiiigAooooAKKKKACiiigAooooAKKKKACiiigArB%2BIf/ACBYv%2Bvpf/QWrerB%2BIf/ACBYv%2Bvpf/QWq6fxoT2Pi39vn/inP2h/2aPiT937L8Vm0XzPT%2B0bR4tv4%2BXX1BXy9/wVjH9kfATwf8ScY/4Qz4u%2BHNa8z/nnsujFu/8AI3619Q1yYL3M2xcO/s5ffBxf4xPvuI/9o4CyHEfyfXKL/wC3MRCrFf8AgNZv5hRRRXsH58Wof%2BQLcf8AX1D/AOgy1Vq1D/yBbj/r6h/9BlqrSXUAooopgFWof%2BQLcf8AX1D/AOgy1Vq1D/yBbj/r6h/9BlpMCrRRRTAKKKKALUP/ACBbj/r6h/8AQZaq1ah/5Atx/wBfUP8A6DLVWkuoBRRRTAKtQ/8AIFuP%2BvqH/wBBlqrVqH/kC3H/AF9Q/wDoMtJgVaKKKYBRRRQBah/5Atx/19Q/%2Bgy1Vq1D/wAgW4/6%2Bof/AEGWqtJdQCiiimAVah/5Atx/19Q/%2Bgy1Vq1D/wAgW4/6%2Bof/AEGWkwKtFFFMAooooAtQ/wDIFuP%2BvqH/ANBlqrVqH/kC3H/X1D/6DLVWkuoBXUfDb/l9/wC2f/s1cvXUfDb/AJff%2B2f/ALNUVf4bGtzqKKKK4ywoormvjMPGZ%2BD/AIrHw5Mn/CQ/8I1ff2D5X3/tv2d/I2%2B/mbcUAdLRXwX8F0%2BDGufDv4reAf2dviJY%2BFvDeu/s6aRbzaroEbySWviX7LrP2%2B48i3/fzanDbtYvdKo%2B1cW4bDla84dLLxLcqd/wP8NfA5viLk7d%2Br%2BAotRTwzgD/lxiuYmmx/zyiS9x/rLiL94Afp3XB%2BM/%2BRluf%2BAf%2BgLT/wBmPxFd%2BL/2bfh94rv/AAbc%2BHZ9S8E6VdTaBeXE00umtJaRMbZ5J/3rtGTsLSfOSuWw2al8Wx6W3iC4NxeXCP8AJuVLZWA%2BRe5cfyraj8QpbGHRVrydF/6CF1/4Br/8co8nRf8AoIXX/gGv/wAcrpuQUbu7tbC1lvr65SGCGNpJppWCqiAZLEngAAZzX5p%2BIv21/hJ%2B0x%2B0PYfGr4nWuq%2BKPD/hnUpE%2BCnwW8MWRvdS1%2B%2BQlTrN7CvywqCP3SykEKCyqQreb9If8FX/AI06l4Z%2BCun/ALMXwYvJ7v4h/GPUV8O6DYiMRmK0kIW7uXYM2xAjCMscY84v0jbHpn7Hn7FXwC/Y3%2BGGn%2BC/h/pMbawLGOPX/E39kRi71SfGXd3MhYJvyVjztQYA5yT8tmSxebZksHh5JU6VpVG1dcz1hG10pNJc9m%2BW/K5J2UX6%2BV8VYrIsJiaOTpRxtVezeId39WpSVpqlHRPEVoy5edyXsaPNb362nkmo/BP9u79tW4W9/ae8ct8HPAlxBFt%2BHXgTUBLq99B5a7VvtRAxGGX70cQwQxVlUjNXbn/gkb%2By14fMeo/AjW/HXwv1WKJVGreBvGl3DJKVGAZFmaRXzjngbuc9c19a6rFpBuV8y%2BuQfs0PAtVPHlLj%2BP0qt5Oi/wDQQuv/AADX/wCOV3xyLLZrmrxdWf8ANNty%2BTTjyryhyr1PjFw7lc/exMXVm/tzbcv%2B3WnHkXlDlXqfJ/8Awpf/AIKifBn5/hZ%2B1V4P%2BJunxf6vSfiX4aayuQn9wXVkS0j%2BjSYGevFZ9x%2BzP%2B2b%2B2VdNH%2B2n4%2BtfAfgZG2P8M/hzqTGXVwOpvr/AKmJjn90nBUjOxhk/YHk6L/0ELr/AMA1/wDjlHk6L/0ELr/wDX/45TeSYWXuSqVHT6wc5OL9b%2B81/d57PqmtAfD%2BFl7kqlR0%2BsHUk4v1v7zX93n5X1TWhyXwr%2BEXwx%2BB/g22%2BH3wk8D6d4f0a0H7mx023CKWxgux6yOccuxLN1JNdbrH/H2n/XrB/wCiko8nRf8AoIXX/gGv/wAcqzqsWkG5XzL65B%2BzQ8C1U8eUuP4/SvWhCnSioQjZLRJKyXoke1Tp06VNQgkorRJWSS8krJGZRVrydF/6CF1/4Br/APHKPJ0X/oIXX/gGv/xyruUVaKteTov/AEELr/wDX/45R5Oi/wDQQuv/AADX/wCOUXANY/4%2B0/69YP8A0UlVa09Vi0g3K%2BZfXIP2aHgWqnjylx/H6VW8nRf%2Bghdf%2BAa//HKSegFWirXk6L/0ELr/AMA1/wDjlHk6L/0ELr/wDX/45TuBVq1rH/H2n/XrB/6KSjydF/6CF1/4Br/8cqzqsWkG5XzL65B%2BzQ8C1U8eUuP4/SlfUDMoq15Oi/8AQQuv/ANf/jlHk6L/ANBC6/8AANf/AI5TuBVoq15Oi/8AQQuv/ANf/jlHk6L/ANBC6/8AANf/AI5RcA1j/j7T/r1g/wDRSVVrT1WLSDcr5l9cg/ZoeBaqePKXH8fpVbydF/6CF1/4Br/8cpJ6AVaKteTov/QQuv8AwDX/AOOUeTov/QQuv/ANf/jlO4FWrWof8elj/wBep/8ARslHk6L/ANBC6/8AANf/AI5Vm%2Bi0g21nvvrkAWx2kWqnI81%2Bvz8c5pN6oDMoq15Oi/8AQQuv/ANf/jlHk6L/ANBC6/8AANf/AI5TuBVoq15Oi/8AQQuv/ANf/jlHk6L/ANBC6/8AANf/AI5RcA1D/j0sf%2BvU/wDo2Sqtad9FpBtrPffXIAtjtItVOR5r9fn45zVbydF/6CF1/wCAa/8AxyknoBVrvPBn/ItW3/A//Q2rjfJ0X/oIXX/gGv8A8crtfCQgXw/bi3kd0%2BfazoFJ%2BduwJ/nWVZ%2B6VHc0aKKK5igooooAKKKKACiiigAooooAKKKKACiiigAooooAKKKKACiiigAormvjMPGZ%2BD/isfDkyf8ACQ/8I1ff2D5X3/tv2d/I2%2B/mbcV8lfsm%2BN/BngybxjP%2Bxd4c0bXI3%2BC3hmXSvC%2Bn6lb2kereL411VruKVpJEUX4hNh9taQiZVMHmndigD7arB%2BIf/IFi/wCvpf8A0Fq%2Bff8AgmTYeJNAt/jH4X8VeDvFOnX9t8VvtGpXviu50%2BS5v76fQ9JkuZWFld3EaM0pabYreWi3EaIflZE%2BhvHa2raRGLuaRF%2B0jBjjDHO1uxIq6fxoT2PkH/grB4afxV/wT2%2BJdhGpL22lW98jL1U215BcEj04jNe4fDvxKvjP4f6F4xRgy6to1reAjuJYlf8A9mrnP2vfCej%2BNP2UfiX4Tiurl5NQ8BavBAptF/1jWcoQ/wCs7Ng1jfsAeI9J8Y/sRfCjXZ9SuWlPgLTIJytsrZkht0hc53jPzRmuOL5M/l/fpL/yWo1%2BUj76r/tPhTSf/PjHVF6KvhKcvxlQ/A9Uoq15Oi/9BC6/8A1/%2BOUeTov/AEELr/wDX/45XsXPz4If%2BQLcf9fUP/oMtVa04otI/sicC%2Budv2mLJ%2ByrkHbJjjf9areTov8A0ELr/wAA1/8AjlJMCrRVrydF/wCghdf%2BAa//AByjydF/6CF1/wCAa/8AxyncCrVqH/kC3H/X1D/6DLR5Oi/9BC6/8A1/%2BOVZii0j%2ByJwL652/aYsn7KuQdsmON/1pNgZlFWvJ0X/AKCF1/4Br/8AHKPJ0X/oIXX/AIBr/wDHKdwKtFWvJ0X/AKCF1/4Br/8AHKPJ0X/oIXX/AIBr/wDHKLgEP/IFuP8Ar6h/9BlqrWnFFpH9kTgX1zt%2B0xZP2Vcg7ZMcb/rVbydF/wCghdf%2BAa//ABykmBVoq15Oi/8AQQuv/ANf/jlHk6L/ANBC6/8AANf/AI5TuBVq1D/yBbj/AK%2Bof/QZaPJ0X/oIXX/gGv8A8cqzFFpH9kTgX1zt%2B0xZP2Vcg7ZMcb/rSbAzKKteTov/AEELr/wDX/45R5Oi/wDQQuv/AADX/wCOU7gVaKteTov/AEELr/wDX/45R5Oi/wDQQuv/AADX/wCOUXAIf%2BQLcf8AX1D/AOgy1VrTii0j%2ByJwL652/aYsn7KuQdsmON/1qt5Oi/8AQQuv/ANf/jlJMCrRVrydF/6CF1/4Br/8co8nRf8AoIXX/gGv/wAcp3Aq1ah/5Atx/wBfUP8A6DLR5Oi/9BC6/wDANf8A45VmKLSP7InAvrnb9piyfsq5B2yY43/Wk2BmUVa8nRf%2Bghdf%2BAa//HKPJ0X/AKCF1/4Br/8AHKdwKtFWvJ0X/oIXX/gGv/xyjydF/wCghdf%2BAa//AByi4BD/AMgW4/6%2Bof8A0GWqtacUWkf2ROBfXO37TFk/ZVyDtkxxv%2BtVvJ0X/oIXX/gGv/xykmBVrqPht/y%2B/wDbP/2asHydF/6CF1/4Br/8cro/ACWSfa/sdxLJ/q93mwhMfe6YY5qKr9xjW50dFFFchYUUUUAFFFFABXB%2BM/8AkZbn/gH/AKAtd5XB%2BM/%2BRluf%2BAf%2BgLW1D4yZbGXWF8TfiR4N%2BD/w/wBY%2BKHxB1mPT9F0KwkvNRu5P4I0GcAfxMThVUcsxAHJFbtfnH/wVE/aJvPjnqviH4ZeDi134D%2BF93bx%2BIVhXevibxbO3l6foyDpNHC5M0yDORE6nayxk8Wd5pDKcBKtvJ3UV3dm9fJLV%2BWm8kTRw2YZlmGGyvLoKeKxVSNGjF6Jzm7JyfSEFepUl9mEJPsaX/BMyXxp%2B3H%2B2P47/wCCh3xV0uSCx0FT4e8AaZP8y6aHUl0U9njgfDn%2BJ7yQ4HQfoVXlv7F/7Pdt%2By9%2BzT4W%2BDzMJNQsrDz9eug243OozEy3Mhbqw8xmAJ52qo7V6lU5BgauAyyMazvVnec293OWr%2B7SPlay0PXzzD5Rgcxngsqlz4ej%2B7hUas6vK7Try/vV6nPVt9mMqUFpTRa1j/j7T/r1g/8ARSVVq1rH/H2n/XrB/wCikqrXsLY8gKKKKYBVrWP%2BPtP%2BvWD/ANFJVWrWsf8AH2n/AF6wf%2BikpdQKtFFFMAooooAtax/x9p/16wf%2BikqrVrWP%2BPtP%2BvWD/wBFJVWktgCiiimAVa1j/j7T/r1g/wDRSVVq1rH/AB9p/wBesH/opKXUCrRRRTAKKKKALWsf8faf9esH/opKq1a1j/j7T/r1g/8ARSVVpLYAooopgFWtQ/49LH/r1P8A6NkqrVrUP%2BPSx/69T/6NkpPdAVaKKKYBRRRQBa1D/j0sf%2BvU/wDo2SqtWtQ/49LH/r1P/o2SqtJbAFd54M/5Fq2/4H/6G1cHXeeDP%2BRatv8Agf8A6G1ZV/gHHc1KKKK5SwooooAKKKKACiiigAooooAKKKKACiiigAooooAKKKKACiiigAooooAKwfiH/wAgWL/r6X/0Fq3qwfiH/wAgWL/r6X/0Fqun8aE9jhdW0221nS7nR71N0N3bvDMvqrKVI/I183f8Eg9Surj9gXwfoGovm70C91XS7v2aHUbgAe2EKV9M18v/APBL/wD4keh/Gb4av8v/AAjPx68RW1tH6WztFLGfbO5q5MT7md4aX80asfwhP9GffZL/ALT4bZzR/wCfVbBVvvliaD/9Ljf5H1BRRRXsH58Wof8AkC3H/X1D/wCgy1Vq1D/yBbj/AK%2Bof/QZaq0l1AKKKKYBVqH/AJAtx/19Q/8AoMtVatQ/8gW4/wCvqH/0GWkwKtFFFMAooooAtQ/8gW4/6%2Bof/QZaq1ah/wCQLcf9fUP/AKDLVWkuoBRRRTAKtQ/8gW4/6%2Bof/QZaq1ah/wCQLcf9fUP/AKDLSYFWiiimAUUUUAWof%2BQLcf8AX1D/AOgy1Vq1D/yBbj/r6h/9BlqrSXUAooopgFWof%2BQLcf8AX1D/AOgy1Vq1D/yBbj/r6h/9BlpMCrRRRTAKKKKALUP/ACBbj/r6h/8AQZaq1ah/5Atx/wBfUP8A6DLVWkuoBXUfDb/l9/7Z/wDs1cvXUfDb/l9/7Z/%2BzVFX%2BGxrc6iiiiuMsK5r4zeIfEvhH4P%2BK/Ffgyz%2B0axpnhq%2Bu9Kt/L3%2Bbcx27vEu3%2BLLqox3zXS0UAfG/gDWviJpngH4oeC/hP8AtA6jcPN%2BzdoPijRfF/jPxbLeQ6Zrt9BrStfm6umkFtC4tLWcouIIRGXWMK5B5HTI/j58QviDdfDDwknifTdG8K%2BOUm/4RDxp%2B0Hf6fqlykvhkyzWj6rp1xdzzrHPJb3YhEswVbhWYxqQkf2V4W%2BAfwL8DQzW/gr4LeEtHjuJp5rhNL8OWtuJZJkEczsI4xuaRFCsTyygA5AqjL%2By7%2BzPP4Bg%2BFE/7O3gV/C1rem8tfDT%2BEbI6fDckMDMtv5XlrIQzAuFz8x55NAFn9nn4h6B8W/gJ4J%2BKfhSx1G20zxH4T0/UtOttXu2uLqKCe2jkRZpXd2lkCsA0hdt5y25s5LPFtnby%2BILiSTVbeMnZlHWTI%2BRfRCP1rsLS0tbC1isbG2jhghjWOGGJAqRoBgKoHAAAwAK4fxn/wAjLc/8A/8AQFraj8QpbHn37S3xM0z4C/s%2B%2BM/jLca3aMfDfhu7vreJlk/ezpExhj5QDLybFGeMtXwf%2BxB8E4viN8VPhF8BL6eF9J%2BEfhqL4i/EaeWNybzxbqw8%2ByguCFJaaCF1cN6RsueBXtX/AAVz8U2OofCbwb%2Bzzd3bRwfEPxxaxa6EbDJotj/pt9KP9xYoyfY1r/8ABJ/wbexfswn48eKrYDxL8VtevfE2tyY6LJM6W0SekSwohVei%2BYccV8vjU8z4nhhfs04py%2B9Ta%2BbVNPyTR9PwU1ljzfiZ/HhqUMHQ8q%2BNU5Vai86WDpzSa1Uq8dj6m/s%2B0/6Dlr/3xL/8RR/Z9p/0HLX/AL4l/wDiKq0V9jZ9z5U09VsbVrlS2sWy/wCjQjDLL/zyXnhO/Wq39n2n/Qctf%2B%2BJf/iKNY/4%2B0/69YP/AEUlVaSTtuBa/s%2B0/wCg5a/98S//ABFH9n2n/Qctf%2B%2BJf/iKq0U7PuBa/s%2B0/wCg5a/98S//ABFWdVsbVrlS2sWy/wCjQjDLL/zyXnhO/WsyrWsf8faf9esH/opKVnfcA/s%2B0/6Dlr/3xL/8RR/Z9p/0HLX/AL4l/wDiKq0U7PuBa/s%2B0/6Dlr/3xL/8RR/Z9p/0HLX/AL4l/wDiKq0UWfcDT1WxtWuVLaxbL/o0Iwyy/wDPJeeE79arf2faf9By1/74l/8AiKNY/wCPtP8Ar1g/9FJVWkk7bgWv7PtP%2Bg5a/wDfEv8A8RR/Z9p/0HLX/viX/wCIqrRTs%2B4Fr%2Bz7T/oOWv8A3xL/APEVZ1WxtWuVLaxbL/o0Iwyy/wDPJeeE79azKtax/wAfaf8AXrB/6KSlZ33AP7PtP%2Bg5a/8AfEv/AMRR/Z9p/wBBy1/74l/%2BIqrRTs%2B4Fr%2Bz7T/oOWv/AHxL/wDEUf2faf8AQctf%2B%2BJf/iKq0UWfcDT1WxtWuVLaxbL/AKNCMMsv/PJeeE79arf2faf9By1/74l/%2BIo1j/j7T/r1g/8ARSVVpJO24Fr%2Bz7T/AKDlr/3xL/8AEUf2faf9By1/74l/%2BIqrRTs%2B4Fr%2Bz7T/AKDlr/3xL/8AEVZvrG1a2swdYthi2IBKy/N%2B9fkfJ%2BHPpWZVrUP%2BPSx/69T/AOjZKTTutQD%2Bz7T/AKDlr/3xL/8AEUf2faf9By1/74l/%2BIqrRTs%2B4Fr%2Bz7T/AKDlr/3xL/8AEUf2faf9By1/74l/%2BIqrRRZ9wNO%2BsbVrazB1i2GLYgErL8371%2BR8n4c%2BlVv7PtP%2Bg5a/98S//EUah/x6WP8A16n/ANGyVVpJO24Fr%2Bz7T/oOWv8A3xL/APEV2vhKNIvD9vHHOkgG/DoDg/O3qAf0rgK7zwZ/yLVt/wAD/wDQ2rKtflKjualFFFcxQUUUUAFFFFABRRRQAUUUUAFFFFABRRRQAUUUUAFFFFABRRRQAUUUUAFYPxD/AOQLF/19L/6C1b1eCfto/tZ6F%2BzF4r%2BHuk/Ebw3PD4Q8Y6nd6fqPjTdi10PUFWE2cdxxhY5w9wPMJAQwgn5SxWKmIo4WPtKrtFNXfRXdlfsrta7LrZHPisVQwdB1a0uWKsm%2Biu0lfsrtXb0W7aWp1dfL37Gv/FNftw/tP/Dw/Kq%2BJNA1qFezfbdPZ3Yf8CQA%2B9fUCsrqHRgQRkEHgivlvwZfWXgn/gr3418OXl5Fbt42%2BD%2BmapaxySBTcy2t09uVQH7zBA7YGTtUnoDWWaNQxOEqdqlv/A4Tj%2BaR%2BjcEJ4nJc/waV3LB%2B0S86GJw1Vv5RlL0V2fUtFFFewfnpah/5Atx/wBfUP8A6DLVWrUP/IFuP%2BvqH/0GWqtJdQCiiimAVah/5Atx/wBfUP8A6DLVWrUP/IFuP%2BvqH/0GWkwKtFFFMAooooAtQ/8AIFuP%2BvqH/wBBlqrVqH/kC3H/AF9Q/wDoMtVaS6gFFFFMAq1D/wAgW4/6%2Bof/AEGWqtWof%2BQLcf8AX1D/AOgy0mBVooopgFFFFAFqH/kC3H/X1D/6DLVWrUP/ACBbj/r6h/8AQZaq0l1AKKKKYBVqH/kC3H/X1D/6DLVWrUP/ACBbj/r6h/8AQZaTAq0UUUwCiiigC1D/AMgW4/6%2Bof8A0GWqtWof%2BQLcf9fUP/oMtVaS6gFdR8Nv%2BX3/ALZ/%2BzVy9dR8Nv8Al9/7Z/8As1RV/hsa3OoooorjLCiiue%2BLvjW5%2BGvwn8T/ABFstOF5NoHh291KK0Of37QQPKE455K449aAOhor5Y8FfFT9qnSvC3xE8D6J47b4g%2BMrX4E6R4y8HTahpVlBjWr%2BPVoxZqltHBG1sZrCBolkJk%2BeVXmYAMvmfxJ/4KH%2BKPhT8L/iF8OD8a76y8TrcLD4E8afFnw/aaDd28LaQt5dTTWktvaxySwOrpBG0CmWS5tVZHj3TMAfedcH4z/5GW5/4B/6AtafwP8AG9v8Svgz4U%2BIFt4htdWXWfDtneNqdlLG8Vy8kKszqY/kILE/d49Ko%2BNbUx6zd6hPdWsUKIHkea8jTYoQZJ3MMDjvWtFpS1Jlsfl7/wAFRPiBfeMf2gvHx0XdcL8MvhXD4c0yCM5b%2B3fEtwlsyr2BOntIfX5K/Qf4RfD%2Bx%2BFHwp8M/C/TNv2fw5oFnpkJUcFYIUiB/Hbn8a/N74QaXe/tGfFH4Ya/eorv8b/2htY8fyLLKqlND0CN47OGXJ4Td5qruwG4x2r9Tf7Hu/8Anta/%2BB0X/wAVXzPDTWKxmKxz%2B21b0d5/%2Bk%2BzPpYJ4Lwuymn9rHVsVjpf4HOOEw9/%2B4WHm15Sfcq0Va/se7/57Wv/AIHRf/FUf2Pd/wDPa1/8Dov/AIqvsLo%2BYDWP%2BPtP%2BvWD/wBFJVWtPVdKupLlWWW2/wCPaEfNeRDpEo7tVb%2Bx7v8A57Wv/gdF/wDFUk1YCrRVr%2Bx7v/nta/8AgdF/8VR/Y93/AM9rX/wOi/8Aiqd0BVq1rH/H2n/XrB/6KSj%2Bx7v/AJ7Wv/gdF/8AFVZ1XSrqS5Vlltv%2BPaEfNeRDpEo7tSurgZlFWv7Hu/8Anta/%2BB0X/wAVR/Y93/z2tf8AwOi/%2BKp3QFWirX9j3f8Az2tf/A6L/wCKo/se7/57Wv8A4HRf/FUXQBrH/H2n/XrB/wCikqrWnqulXUlyrLLbf8e0I%2Ba8iHSJR3aq39j3f/Pa1/8AA6L/AOKpJqwFWirX9j3f/Pa1/wDA6L/4qj%2Bx7v8A57Wv/gdF/wDFU7oCrVrWP%2BPtP%2BvWD/0UlH9j3f8Az2tf/A6L/wCKqzqulXUlyrLLbf8AHtCPmvIh0iUd2pXVwMyirX9j3f8Az2tf/A6L/wCKo/se7/57Wv8A4HRf/FU7oCrRVr%2Bx7v8A57Wv/gdF/wDFUf2Pd/8APa1/8Dov/iqLoA1j/j7T/r1g/wDRSVVrT1XSrqS5Vlltv%2BPaEfNeRDpEo7tVb%2Bx7v/nta/8AgdF/8VSTVgKtFWv7Hu/%2Be1r/AOB0X/xVH9j3f/Pa1/8AA6L/AOKp3QFWrWof8elj/wBep/8ARslH9j3f/Pa1/wDA6L/4qrN9pV01tZqJbb5bYg5vIh/y1c8fNz17Um1dAZlFWv7Hu/8Anta/%2BB0X/wAVR/Y93/z2tf8AwOi/%2BKp3QFWirX9j3f8Az2tf/A6L/wCKo/se7/57Wv8A4HRf/FUXQBqH/HpY/wDXqf8A0bJVWtO%2B0q6a2s1Ett8tsQc3kQ/5auePm569qrf2Pd/89rX/AMDov/iqSasBVrvPBn/ItW3/AAP/ANDauN/se7/57Wv/AIHRf/FV2vhKF7fw/bwyFCRvyUcMPvt3BINZVmnEqO5o0UUVzFBRRRQAUUUUAFFFFABRRRQAUUUUAFFFFABRRRQAUUUUAFFFFAGb4z8WaN4B8H6t468RzNHp2i6ZPf38iLuKwwxtI5A7kKp4ryn4RftRfEHx9a%2BIdI8VfAc6d4n0rwLpvizSPDWj%2BJo71tUs79bwW1v508VtHDd%2BbZSxSISYULxsJmViV9W8ZeE9G8e%2BENV8DeI4Gl07WtNnsL%2BJW2l4Zo2jcA9iVY814x8Pv2Vfjf4Cttf1yL9o/SrnxXqXw/s/CekeIj4EZV063sIrv7Bctbm%2BZZpxcXs005yiTBY0VIAuSAdl8Afjb4q%2BKmreMfBvj7wFp%2Bg694K1u307VIdE8QPqlk7TWNveIEuHtrdvMVLhQ8bRAqdpBZXU1a/aU%2BGHgX40fCTUPhd8S/D0Gq6HrQ%2Bz6hZXA4dSrEEEcqykBlYYKsoIIIBqr%2BzB8FfFXwC%2BHS/DzxF4p8P6tHDM0sN5onhu6sJriWQl57i7e5v7x7q5lkZpHmLKWZiSCTmut8d3V1Z6RHLaXMkTG5ALRuVONrccU1CFT3JK6ejT2afRkVKcKtNwmrpqzT1TT3TPhP8AZr%2BKHjr9jL4t2P7CX7SviGfUNC1HK/Bj4gX541G2UgDSbl%2Bi3UQKqnQONqjGYwfWf2t/2RfCf7UfhiyuYdZuPDfjXw5P9s8FeN9M%2BW70i7GCCCCC8TEAPGTgjkYYAjpf2nfgH4K/ay%2BEl98Ivim91Lazss%2BnX8Ux%2B0aZeJnyruBj9yRCeD3BZTlWIPin7Nv7cvi74N%2BKJf2Pv28/iTFovjnQ9kfh3xfqd61vY%2BMdPJKw3SSuQiz8bHRiCX6ZbcB5EqdLBR%2BoY3XDz0hKT%2BHtTlLo1vTndN2Ub80U5efw/n2Z8CZzRq4eu6ai/wBzUbXu3TTo1Oa8ZRcW4xU7xqU3KlNNpc25%2ByV%2B114s8U%2BL7v8AZX/aq0W38N/F7w/Bvkhj%2BWz8TWgzjULFjgOrAEvGOVIbgYZY/oevKv2tf2XvDP7WnhCwkuvE97ovi3w9P9u8DeOdLmIvdFuxhlkjcEFo2KrvjyAwAIIYKw4n9mP9u7xrD4xf9lL9tDVovCvxX0rbHaXD3hi0/wAXW5JEd5Yu2FZnx80IwQ2dqjDJH1UMVXy6tHC4yV4vSFR/a7Qm9lPs9FUWqtK8X%2BtZpkmX8XZfUzzh2lyVILmxOEjdun3r4daylhm9Zw96eFbtLmoOFSH0rD/yBbj/AK%2Bof/QZaq1pxaxq50ieU6rc7hcxAN57ZAKyZHX2H5VW/tzWv%2Bgxdf8AgQ3%2BNe0rn5oVaKtf25rX/QYuv/Ahv8aP7c1r/oMXX/gQ3%2BNPUCrVqH/kC3H/AF9Q/wDoMtH9ua1/0GLr/wACG/xqzFrGrnSJ5TqtzuFzEA3ntkArJkdfYflSdwMyirX9ua1/0GLr/wACG/xo/tzWv%2Bgxdf8AgQ3%2BNPUCrRVr%2B3Na/wCgxdf%2BBDf40f25rX/QYuv/AAIb/GjUAh/5Atx/19Q/%2Bgy1VrTi1jVzpE8p1W53C5iAbz2yAVkyOvsPyqt/bmtf9Bi6/wDAhv8AGkrgVaKtf25rX/QYuv8AwIb/ABo/tzWv%2Bgxdf%2BBDf409QKtWof8AkC3H/X1D/wCgy0f25rX/AEGLr/wIb/GrMWsaudInlOq3O4XMQDee2QCsmR19h%2BVJ3AzKKtf25rX/AEGLr/wIb/Gj%2B3Na/wCgxdf%2BBDf409QKtFWv7c1r/oMXX/gQ3%2BNH9ua1/wBBi6/8CG/xo1AIf%2BQLcf8AX1D/AOgy1VrTi1jVzpE8p1W53C5iAbz2yAVkyOvsPyqt/bmtf9Bi6/8AAhv8aSuBVoq1/bmtf9Bi6/8AAhv8aP7c1r/oMXX/AIEN/jT1Aq1ah/5Atx/19Q/%2Bgy0f25rX/QYuv/Ahv8asxaxq50ieU6rc7hcxAN57ZAKyZHX2H5UncDMoq1/bmtf9Bi6/8CG/xo/tzWv%2Bgxdf%2BBDf409QKtFWv7c1r/oMXX/gQ3%2BNH9ua1/0GLr/wIb/GjUAh/wCQLcf9fUP/AKDLVWtOLWNXOkTynVbncLmIBvPbIBWTI6%2Bw/Kq39ua1/wBBi6/8CG/xpK4FWuo%2BG3/L7/2z/wDZqwf7c1r/AKDF1/4EN/jXR%2BAL69vftf2y8ll2%2BXt82QtjO7pmoq35GNbnR0UUVyFhTLm2t7y3ktLuBJYpUKSxSKGV1IwQQeCCOMU%2BigDzLwZ%2Bx3%2Bzz4A0TUvDfhvwVeCw1fSv7K1Ozv8AxJqF5HcaeIHgSxYXE7/6LHHJIsUH%2Bqh82Qxqhdidbwb%2Bzr8JPAngPXPhvoOgXsmmeJjMfEMmq69e395qJlt0tmaa7uppLiQ%2BRHHEpMhKJGirtCqB29FAFXQ9F0zw1oln4d0W28mzsLWO2tId7N5cSKFVcsSTgADJJPrXyz/wVb%2BK958H/wBk34ia7ozOdV1TSk0TRoov9Y91fbLVdnqyiVnH%2B5X1hXw5/wAFDf8Ai8P7b3wK/Zfi/e2cXiSXxx4kiHRLfTbcfZg47pJM7pg8ZArhzOrOnl9SNN2lNKEfWbUF93M38jxs/q1KeU1I03ac7Qj/AIqjUE/lzN/I87/Y%2B%2BFFnon7d8vgOzCS2HwG%2BB%2BieFCYx8n9qX2LqacH%2B%2B6K4OPWvtevlv8A4JdA%2BPPDHxQ/aan%2Bc/En4q6reaZP/e0y2f7Narnvt2SjNfUlVw9ShDLFOCspylJf4W7R/wDJIRP1PxIpU8u4hp5NTVoYChh8Kl2lRow9ov8AwdVq384u%2BwUUUV7h8CWtY/4%2B0/69YP8A0UlVatax/wAfaf8AXrB/6KSqtJbAFFFFMAq1rH/H2n/XrB/6KSqtWtY/4%2B0/69YP/RSUuoFWiiimAUUUUAWtY/4%2B0/69YP8A0UlVatax/wAfaf8AXrB/6KSqtJbAFFFFMAq1rH/H2n/XrB/6KSqtWtY/4%2B0/69YP/RSUuoFWiiimAUUUUAWtY/4%2B0/69YP8A0UlVatax/wAfaf8AXrB/6KSqtJbAFFFFMAq1qH/HpY/9ep/9GyVVq1qH/HpY/wDXqf8A0bJSe6Aq0UUUwCiiigC1qH/HpY/9ep/9GyVVq1qH/HpY/wDXqf8A0bJVWktgCu88Gf8AItW3/A//AENq4Ou88Gf8i1bf8D/9Dasq/wAA47mpRRRXKWFFFFABRRRQAUUUUAFFFFABRRRQAUUUUAFFFFABRRRQAUUUUAFFFFABWD8Q/wDkCxf9fS/%2BgtW9WD8Q/wDkCxf9fS/%2BgtV0/jQnscbXM/FX4NfCj44%2BF5PBfxf%2BHuk%2BI9MkyfsmrWSyiNiMb0JGY39GUhh2NdNRXVUp06sHCaTT3TV0/k7oxqU6dam4VIpxe6aTT9U7o%2BUJP2Efj5%2BzXI2r/sA/tH3Wl6bGS4%2BGXxEkk1PQ3HXy4JSTPaD/AHSxJ6sBXGfG79pHwB8QfB0nwm/4Kd/sE%2BLdGltsmPX9E0h9Y0uMkYNxa39qfNt2OAdoywBAYnkV9xUV4tXI4Km4YafJB7waVSm/%2B3JP3f8At2SXkjhwGFzHIMbDGZFi6mFqQd48rbjF94rmUoP/AATStpy2dj81fh5/wURsv2V7Q2/wc/au0f42/DGOZN3hfxlevpXi3RY1DALby3aRLfqoJHlkbydioqjLV9o/s9ftw/sx/tN%2BFD4p%2BGXxR0/fAoOo6Rqs62l9YN3WaGQgjByN43ISDhjXbeOfgJ8Dfitot0fid8G/C3iEtcxAvregW9033ZOhkQkdB%2BVeB/Er/gjn/wAE%2BfiRZ3KL8EBoF5cJhNR8NarcWrwH%2B8kRdoM/70ZHtXBh8FxJlsmqE6dSn0hJzjb/AAyfO0v7rckujR9bmvE%2Ba8R0Y/2nhMN9aur4ml7Sg5rrKvh4QnSqS6udJUakn8Sk3d%2By69%2B1D%2BzR4W3f8JN%2B0R4F07b977d4ts4cf99yiuf0/wDb2/Yn1TWBoVh%2B1d8P3uW%2B4v8AwlVqEY%2BgcuFJ9gc18m23/BLn4m/sq376t8K/gx8J/jt4cRt3/CPeO/DFpY63Gn9yG72GCVvV5gOvC11ugftCf8EyNSdPhL%2B09%2ByJoHwi1xuDoPj74dW1tbM3QyQXaQ%2BUU9JCY89qlZ1msJcuKjToS7T9pZ%2BlRe4/vT8jpqeHPiDjKDxORywuPppXf1aVapUiuvPQlGniIW6tUakV/NY%2B0tC8R%2BHvFOnrq3hnXrLUbV/uXNhdJNG30ZCQa14f%2BQLcf9fUP/oMtfJll/wTA/4J7fEW1X4gfA/T7jQmueYPEPw28b3MSt3GwxzPDxnstWj%2BxH%2B2B8KNLl1b9mr/AIKGeLrsW9xGB4f%2BLFrFrdrdDa%2BEa42rLCBj7yKTg4r1Fjs0hFSqYZSXenUjL7lJRb%2BUj4Oric%2BwVSVPFYLWOj5JrmTW94VI05XXbR9Nz6for5V/4bJ/bK%2BBH%2Bj/ALWv7E2oapp0P%2Bu8Y/B%2B6/tW2I7u1lIRcQoOpZm6duK7bwD/AMFLv2FPiHpJ1XT/ANpjwxpbI2yey8TX40u5hfurRXflsSDwSMj3rWlnWWzlyTnyS/lmuR/dKyfylJBSz7Kqk%2BSdT2c/5aidOX3T5U/%2B3ZSR7pRXlaft0fsUv0/a6%2BGf4%2BObAfzlouP26P2KbaLzpP2uvhmQO0fjmwc/kspNdP8AaOXf8/of%2BBw/%2BSOn%2B08s/wCf9P8A8Dh/8mevQ/8AIFuP%2BvqH/wBBlqrXi1//AMFMP2B9H0m4hu/2rfB7ObiJgttqXn5AWTJHlhs9R%2BdcvqH/AAV3/wCCc%2BmEi5/aYsGx/wA%2B%2BiajN/6LtzWEs6yenfmxNNf9vx/%2BSMJ57kdP4sVTX/cSH/yR9I0V8v8A/D4//gn7cf8AIH%2BLmqaj6fYvBWqtn/vq2FIv/BYP9iO3dZdf8T%2BKNJsmOP7T1LwNqKW4PYFlhJ/Ss/8AWDI/%2BgmH/gS/Pb8TL/WTh/8A6C6f/ga/Pb8T6hq1D/yBbj/r6h/9BlrxbwJ%2B3/8AsUfEnYnhP9qHwXJJJ/q7e91yK0mb2EdwUcn2xXsGh61o%2Bv8AheXUtC1a2vbZ7qHZcWk6yI3yy9GUkGu%2BjisLio3o1Iy9JJ/k2elh8ZhMWr0KkZr%2B7KL/ACbEoooroOgKKr3%2Bq6XpaebqepW9sv8AenmVB%2Bprnda%2BO3wQ8NxmXxF8ZPClgq/ea98Q20QH/fTis51aVP45JerS/NoznWo0leckvVpfm0dpD/yBbj/r6h/9BlqrXkuu/wDBQ39hjwtpNxDqv7WXgNnFzEfLsfEkF02AsmeIWc8ZH515v4n/AOCsv7NeqzJ4R/Zltdc%2BLnjG6JWw8MeEdHuFyf8AnpNcTRLHDCCfmkG7b1IxzXn1M5ymjfmrwv2Uk2/JKLk2/JJs86tnuS0PjxEL9lJSb8lGLk2/JJs%2BoJZYreJp55VREUs7u2AoHUk9hXz/AKr/AMFSP2GdG%2BKQ%2BFN58dbA3AlEE2txQyPpMFwc4ge9UGFXIDHO7YNpBYEYrjIv2Qv2o/2wZV1v9vb4o/2F4WkYPF8Hfh9evDaunZNQvVO%2B5PTciHZkbkZelfQOk/s5/AXQ/hYfgjpfwe8OReEXi2S%2BHv7Jia1l9WdCpDucZLtlieSc81j9YzjGe9h4KlHp7RNyl/27FrkT7tuX91HN9ZzvHe9hqcaUOjqpuUv%2B3ItcifeUnP8Auo67T9R0/V7CHVNKvobq1uIlkt7m3lDxyoRkMrDIYEcgitCH/kC3H/X1D/6DLXyNqP7Cfxp/Zlv5vF3/AATt%2BMraNYtK0118KfGs0t7oF0ScsLdyTLZsfVScnALKoxVvSP8Agqn4P%2BHWm3Pgf9sD4HeNfht4wgniMmnpoU2qWV6oEgMtpdWyMsqZI6gYJwC2CaP7Yhhvcx8PYvu9YP0mlb5SUZeo1nkMK%2BTMoexl3etN/wCGaVv%2B3ZqMvU%2BpKK%2BXv%2BHun7KEozp%2Bj/EK79Ps3w/vjn80FH/D2j9ncfvJfhj8V0h73D/Dm72D8ev6Vf8Ab%2BS/9BEfvf8A8iX/AKx5D/0Ew%2B9//In1DRXy9/w%2BF/Ygtf8AkYPFXijScfe/tHwLqS7frthanv8A8Fj/APgnjLADo3xwutTuXbbFp9h4Q1Vp5G9ArWw/UgUf6wZH/wBBNP8A8CX5b/gH%2BsnD/wD0F0//AANL8HZ/gfVEP/IFuP8Ar6h/9BlqrXzJH/wUy1jxbpc1r8Ef2Efjd4o8y4iMWo3fhRdMsHwsmAJ55OM5zyvQVWb9qf8A4KRR/wDFSTf8EzoxpK/6zTk%2BKunvqJX/AJ6BQm0/9c/vc0lnuXP4HKa7xp1JL71BL8xf6w5ZL%2BG5zXeNOpJfeoJfdf5n1JXUfDb/AJff%2B2f/ALNXxpD/AMFXPg14QmWx/aS%2BDnxM%2BFU%2B4I9x4u8GTtZsx/55z24k3rnjdtAr6Y/ZS/aI%2BBn7Q2larrPwR%2BK2h%2BJobP7P9uGk36ySWu/zNnmx/fi3bHxvAztbHQ1rTzXLsZenRqxcv5b2l/4DJRl%2BB1YTN8rxtX2dGtFy/lvaX/gMlGX/AJKet0UUVZ6oVifErxvY/DP4c6/8SNTtZJ7bw/ol3qVxDEcNIkELSso9yEIFbdVdc0XSvEmi3nh3XbGO6sb%2B1ktry2lGVmidSrofYqSD9aAPnTw/%2B1V%2B0L4d8B/EKT4geDfD/iPxV4a%2BDdh4%2B8P6Z4R066to7xrqLUcaWyPNcSSyJNp4Xz02mVbhdsKsuGxdC/bM%2BLnjLwB401LwD8Svh/4jbwFqNrJqvjPwn4B1jWrTUbG5sVliWz0uxu5JpZluWeKRlumSNImdgDvSL1D4bfsdeHPhrbapHZ/GPx3qNxq3he38OTalf6napdw6VaxTx2dtFPbW0UkZtzdXMiTA%2Be0kxaSSQhdte1/Yzs7BJdb039or4jW/i261htQ1DxzFeab9vvc2aWYt5YDYmxMKwxR7VFsCroZARI7uwB6B8EfHOqfE/wCDHhH4l63YWNre%2BIfDFhqd5a6XqKXltDLPbRyukM8ZKzxhnIWRSVdQGHBr89/i/wDE2e5%2BPf7Xv7bEHmNZ/DTwZH8PfCV8FJWO9SHfcx7uikX0kI9cPX6JfDD4c%2BFfg/8ADbw/8JvA1pJb6L4Z0W10rSYZZjI6W1vEsUYZ25dtqDLHknJPWvgP/goV8BvDPw38D6X%2Byr4SvZruX48ftGLqfiMyqFZ4bu9bUbo4XqkKpbxjuVQE%2BleJnsa/1dVYfY5n/wBvuPJT/wDJ6l/K1z3eDchhxD4g5Nh8R/u8K6q1f8FGMqstOyjTqN/Lue%2B/sMfBLWfgx%2Bx98OPhy%2BgXUU9j4TtJL6MWzDbdTJ5846f89ZXr1b%2Bw9a/6A91/4Dt/hVRVVFCIoAAwABwBS19JhqEcLhoUYbRSivRJL9DgzjM8Rneb4nMa/wAdepOpL1qTlN/jK3okWv7D1r/oD3X/AIDt/hR/Yetf9Ae6/wDAdv8ACqtFbanmmnquj6vJcq0elXLAW0IyIGPIiUEdPWq39h61/wBAe6/8B2/wo1j/AI%2B0/wCvWD/0UlVaSvYC1/Yetf8AQHuv/Adv8KP7D1r/AKA91/4Dt/hVWinqBa/sPWv%2BgPdf%2BA7f4VZ1XR9XkuVaPSrlgLaEZEDHkRKCOnrWZVrWP%2BPtP%2BvWD/0UlLW4B/Yetf8AQHuv/Adv8KP7D1r/AKA91/4Dt/hVWinqBa/sPWv%2BgPdf%2BA7f4Uf2HrX/AEB7r/wHb/CqtFGoGnquj6vJcq0elXLAW0IyIGPIiUEdPWq39h61/wBAe6/8B2/wo1j/AI%2B0/wCvWD/0UlVaSvYC1/Yetf8AQHuv/Adv8KP7D1r/AKA91/4Dt/hVWinqBa/sPWv%2BgPdf%2BA7f4VZ1XR9XkuVaPSrlgLaEZEDHkRKCOnrWZVrWP%2BPtP%2BvWD/0UlLW4B/Yetf8AQHuv/Adv8KP7D1r/AKA91/4Dt/hVWinqBa/sPWv%2BgPdf%2BA7f4Uf2HrX/AEB7r/wHb/CqtFGoGnquj6vJcq0elXLAW0IyIGPIiUEdPWq39h61/wBAe6/8B2/wo1j/AI%2B0/wCvWD/0UlVaSvYC1/Yetf8AQHuv/Adv8KP7D1r/AKA91/4Dt/hVWinqBa/sPWv%2BgPdf%2BA7f4VZvtH1d7azVNKuSVtiGAgbg%2Ba5wePQj86zKtah/x6WP/Xqf/RslJ3ugD%2Bw9a/6A91/4Dt/hR/Yetf8AQHuv/Adv8Kq0U9QLX9h61/0B7r/wHb/Cj%2Bw9a/6A91/4Dt/hVWijUDTvtH1d7azVNKuSVtiGAgbg%2Ba5wePQj86rf2HrX/QHuv/Adv8KNQ/49LH/r1P8A6NkqrSV7AWv7D1r/AKA91/4Dt/hXa%2BEoJ7bw/bw3ELxuu/cjqQR87djXAV3ngz/kWrb/AIH/AOhtWVa/KVHc1KKKK5igooooAKKKKACiiigAooooAKKKKACiiigAooooAKKKKACiiigAoornPBPxi%2BEfxL0m/wBe%2BHHxT8OeILHSp3h1S90TXLe7is5VXcySvE7CNgpBIYggc0AdHWD8Q/8AkCxf9fS/%2BgtTvh98Tvht8WvD/wDwlvwq%2BIWh%2BJtKM7QjU/D2rQ3tv5i43J5kLMu4ZGRnIyKb8Q/%2BQLF/19L/AOgtV0/jQnscbRRRXaQFFFFAFqH/AJAtx/19Q/8AoMtVatQ/8gW4/wCvqH/0GWqtJdQCszxb4L8HePtFl8N%2BOvCema1p0w/fWGrWEdzDJ9UkBU/iK06KJRjOLjJXTNKVWrQqqpSk4yTumm00%2B6aaafmmn5nzV4q/4JV/szNrMvjD4HX3in4T6/IcnVPhx4imsVYjkBoCWiKeqqq5BIqtD8Of%2BCrvwV0yaLwF8dPh78WtGiuI/wDRvHWiy6Vqe3bJtRJrQmN2xkF5Tz1xX09VqH/kC3H/AF9Q/wDoMteRPI8BF81BOk%2B9OTh98VeD/wDAD7yl4mcU1aao5pKnjqaVksXShXaXaNWXLXj5Wr6dj5RH7e37RXwz/dftKf8ABPD4g6XFHxLq3gK5t/EdsB/z0YQlGjTvzkis1f2xv%2BCR/wC0BrrX/wASp/h%2BddTEVynxH8Gx211Af7jyXsAHHs5FfW1YHjX4VfC/4kw/Z/iL8N9A1%2BMLtCa1o8F0MemJVbis6mAzRR5VXjUj2q00/wAYW/8ASSaubeG2cR5cyyadF98NiG437%2BxxdOvH7qq9Ty/wb8Cv%2BCbvxMjEvw%2B%2BDfwQ8QKwyraN4e0e7BHr%2B7Rq6KD9ir9je1lE9r%2ByX8M43HR4/AenAj8RDXG%2BNP8Aglp%2BwD47czap%2BzNoVlITuWTQZJ9NKN2IFrJGB%2BWK50f8Er/h7oPHwq/al%2BOXgyJf9XZ%2BH/iPKLdfYpLG5I9s1h9XxtP4sFRn/hcV%2BE6X6nL/AKseEOL1oY6rQfatgadRL/t7DVdf/AEe9aP%2Bzx%2Bz/oujzPo/wM8HWhW5hCm28M2kZHyyf3YxWvp3hTwtpChdJ8NafagdBb2aJj/vkCvnaP8AYT/as0LS5pfAX/BT34i2ypcRhU8Q6FY6qCSsmCfMC5xg/nUH/ChP%2BCpOgfJpH7fXhPXgv3W134W29qW%2Bv2dzW1PF16O%2BBkv8Psn%2BUov8DohwPwpL/dM%2BwnpOliqL/HDTiv8AwI%2BoAABgCkkjjlQxSoGVhhlYZBHpXzB/YX/BYvRv%2BQf48/Z%2B1oD/AKCml6vbs3/fk4Bo/wCE8/4K76N/yEvgJ8GNax1/sfxRe2276eeDj8a1/thL48PWX/cO/wD6TNmn/EPp1P4GbZfP/ubUX91ShT/M9c8d/sjfss/E7e/j/wDZ18FarLJ965u/DVsZvwlCbx%2BBrzLUP%2BCPP/BPbUobnWLT4Hz6ZM1xErjSPFOpW6MCJD9xLjaOg6AVQ/4aT/4Ka6P/AMhb/gmzpWqgfek0j4v2EX4hZo8n6VYj/bo/az0XS5l8Zf8ABMD4gwx/aIzJJofiKx1IqQr8AR7c5yfyrz8RW4dxDvXwzv3lQn%2Bfs/1POxHg1jsbLm9ngqz/ALuLwMn/AOnoS%2B8rf8Oev2H0/wCPfwp4nh/65%2BOtSH85qP8Ahz9%2BxVJ8l5ofi24iPWCbx3qJQ/lMD%2BtL/wAPQ/D2kfL4/wD2M/j/AOHdv35r/wCG7vCPcPHK24e%2BKVf%2BCw37CFkwh8X/ABE13w9KTgw634J1ONgfQ7IGH61h/wAYSviVKP8AiXL/AOlKJzf8QF4ol/CyCVT/AK9QhW/9M1qxNYf8Ed/%2BCc1i/nN%2BzslzIfvSXnifVJS31DXJH6V0Wi/8Exv2BNBkWSx/ZY8LSFegvbZ7kfiJmYGqOk/8FWf%2BCe2s4%2Bx/tPaKmen2u0u4P/RsK4rpdN/4KCfsO6qoa1/ay8AID/z8%2BJ7eH/0Yy110afB//LpUPl7L/M4avhBxBl7/AHnD1aHrg6n/AMokdV4Y/ZO/Za8I6PNJ4W/Zs8Bac6XMIWSy8IWUTD5ZO6xA9hXWaXomjaHb/ZNE0i1s4h0itbdY1/JQBXGaZ%2B2J%2ByNqWkTR6d%2B1N8OLhmuYiqw%2BN7BiRtk7Cb3H51o6f8fPgXqzBdK%2BNPhK5J6C38R2r5/KQ161CrlkNKMqa/wuC/JmD4WzjALXL6lP/uBUh/7hidZRVPTfEXh/WRnR9ds7vPT7NdJJ/wCgk1crtTUldHBOnOnLlmmn2aa/NIKtQ/8AIFuP%2BvqH/wBBlqrVqH/kC3H/AF9Q/wDoMtDJKtFFFMApgtbZZzcrboJCMGQINxHpmn0UAWof%2BQLcf9fUP/oMtVatQ/8AIFuP%2BvqH/wBBlqrSXUBs8ENzC1vcwrJG6lXR1BDA9QQeoq18BvhP8Lvh3quv654A%2BHGhaHeaz9m/te60fSYbZ70xeb5ZlMagyFfMkwWyRvPrVeuo%2BG3/AC%2B/9s//AGasq8ISjzNJtbOyuvTTT5WJ9nTlNSaTa2dldejtdfKx1FFFFcpsFFFYnxK8b2Pwz%2BHOv/EjU7WSe28P6Jd6lcQxHDSJBC0rKPchCBQBt0V81eH/ANqr9oXw74D%2BIUnxA8G%2BH/Efirw18G7Dx94f0zwjp11bR3jXUWo40tkea4klkSbTwvnptMq3C7YVZcNmeEf2xPiX488FeMbvwv8AHL4PzW3gLUYJ/EXxOXRr19EbSpdNNyrwWaXxaSZbgNA%2BLzaoQtgyZgUA%2BqK%2BH/j6P%2BFs/wDBYPwH4MH72z%2BF3w41DxLcj%2BBbu/KWMaN/thFDj0HIr65%2BCni/xb8Qfg14S8e%2BP/BsnhzXdb8M2F/rXh6Ykvpl3NbpJNatkA5jdmQ5APy818l/sh6fqvxZ/bP/AGmP2i/7LuJof%2BE9t/BOmuIGIiXR7ZYZ1Xjo0jqx9xXm4/8Ae4jDYf8AmqJv0ppzf4qJ%2BgcDtYHAZzmz3o4SdOP/AF8xc4YaNvPkdd/efRdFWv7D1r/oD3X/AIDt/hR/Yetf9Ae6/wDAdv8ACvobrufnZVoq1/Yetf8AQHuv/Adv8KP7D1r/AKA91/4Dt/hRddwDWP8Aj7T/AK9YP/RSVVrT1XR9XkuVaPSrlgLaEZEDHkRKCOnrVb%2Bw9a/6A91/4Dt/hSTVtwKtFWv7D1r/AKA91/4Dt/hR/Yetf9Ae6/8AAdv8Kd13Aq1a1j/j7T/r1g/9FJR/Yetf9Ae6/wDAdv8ACrOq6Pq8lyrR6VcsBbQjIgY8iJQR09aV1fcDMoq1/Yetf9Ae6/8AAdv8KP7D1r/oD3X/AIDt/hTuu4FWirX9h61/0B7r/wAB2/wo/sPWv%2BgPdf8AgO3%2BFF13ANY/4%2B0/69YP/RSVVrT1XR9XkuVaPSrlgLaEZEDHkRKCOnrVb%2Bw9a/6A91/4Dt/hSTVtwKtFWv7D1r/oD3X/AIDt/hR/Yetf9Ae6/wDAdv8ACnddwKtWtY/4%2B0/69YP/AEUlH9h61/0B7r/wHb/CrOq6Pq8lyrR6VcsBbQjIgY8iJQR09aV1fcDMoq1/Yetf9Ae6/wDAdv8ACj%2Bw9a/6A91/4Dt/hTuu4FWirX9h61/0B7r/AMB2/wAKP7D1r/oD3X/gO3%2BFF13ANY/4%2B0/69YP/AEUlVa09V0fV5LlWj0q5YC2hGRAx5ESgjp61W/sPWv8AoD3X/gO3%2BFJNW3Aq0Va/sPWv%2BgPdf%2BA7f4Uf2HrX/QHuv/Adv8Kd13Aq1a1D/j0sf%2BvU/wDo2Sj%2Bw9a/6A91/wCA7f4VZvtH1d7azVNKuSVtiGAgbg%2Ba5wePQj86TautQMyirX9h61/0B7r/AMB2/wAKP7D1r/oD3X/gO3%2BFO67gVaKtf2HrX/QHuv8AwHb/AAo/sPWv%2BgPdf%2BA7f4UXXcA1D/j0sf8Ar1P/AKNkqrWnfaPq721mqaVckrbEMBA3B81zg8ehH51W/sPWv%2BgPdf8AgO3%2BFJNW3Aq13ngz/kWrb/gf/obVxv8AYetf9Ae6/wDAdv8ACu18JQT23h%2B3huIXjdd%2B5HUgj527GsqzTiVHc0aKKK5igooooAKKKKACiiigAooooAKKKKACiiigAooooAKKKKACiiigDmvjN4d8R%2BMPg/4r8JeDrz7Pq%2BqeGr600q48zZ5VzLbukTbv4cOynPbFfH0ngrxz8UPhP8U9D%2BHvwY8WaH/bf7NOieDtL0LV/Cl3pxvNWsYNYe5sF86NEVVivLe3Wfd5MrSlY5HERx9zUUAeK/svfb/E3xW%2BKPxc07wdrmh%2BHPEepaQmj23iDQLnSri7lttNiinuvstzHHKi8xW4Z0Xd9kJXKBGPqHjtrVdIjN3DI6/aRgRyBTna3cg1tVQ8RaJ/b1ktn9q8rbKH3bN2cAjHUetVBpSTYnscR52i/wDQPuv/AAMX/wCN0edov/QPuv8AwMX/AON1vf8ACtv%2Bo1/5Lf8A2VH/AArb/qNf%2BS3/ANlXT7Sn3JszB87Rf%2Bgfdf8AgYv/AMbo87Rf%2Bgfdf%2BBi/wDxut7/AIVt/wBRr/yW/wDsqP8AhW3/AFGv/Jb/AOyo9pT7hZmVFLpH9kTkWNzt%2B0xZH2pck7ZMc7PrVbztF/6B91/4GL/8bro08AbLKSz/ALW/1kqPu8jptDDH3v8Aa/Sov%2BFbf9Rr/wAlv/sqSqU%2B4WZg%2Bdov/QPuv/Axf/jdHnaL/wBA%2B6/8DF/%2BN1vf8K2/6jX/AJLf/ZUf8K2/6jX/AJLf/ZU/aU%2B4WZg%2Bdov/AED7r/wMX/43VmKXSP7InIsbnb9piyPtS5J2yY52fWtX/hW3/Ua/8lv/ALKpU8AbLKSz/tb/AFkqPu8jptDDH3v9r9KTqU%2B4WZznnaL/ANA%2B6/8AAxf/AI3R52i/9A%2B6/wDAxf8A43W9/wAK2/6jX/kt/wDZUf8ACtv%2Bo1/5Lf8A2VP2lPuFmYPnaL/0D7r/AMDF/wDjdHnaL/0D7r/wMX/43W9/wrb/AKjX/kt/9lR/wrb/AKjX/kt/9lR7Sn3CzMqKXSP7InIsbnb9piyPtS5J2yY52fWq3naL/wBA%2B6/8DF/%2BN10aeANllJZ/2t/rJUfd5HTaGGPvf7X6VF/wrb/qNf8Akt/9lSVSn3CzMHztF/6B91/4GL/8bo87Rf8AoH3X/gYv/wAbre/4Vt/1Gv8AyW/%2Byo/4Vt/1Gv8AyW/%2Byp%2B0p9wszB87Rf8AoH3X/gYv/wAbqzFLpH9kTkWNzt%2B0xZH2pck7ZMc7PrWr/wAK2/6jX/kt/wDZVKngDZZSWf8Aa3%2BslR93kdNoYY%2B9/tfpSdSn3CzOc87Rf%2Bgfdf8AgYv/AMbpHfQpFKPptywIwQbtSD/5Drf/AOFbf9Rr/wAlv/sqP%2BFbf9Rr/wAlv/sqftKfcLM4bVvhz8Hdez/bnwv069z1%2B12tvJn/AL6hNc1qX7Kn7H%2BssX1f9lrwTdk9Tc%2BGdPkJ/wC%2BrY169/wrb/qNf%2BS3/wBlR/wrb/qNf%2BS3/wBlWE6WCqfHBP1in%2BcWenh85zrB/wC74qrD/DVqR/8ASakTw66/YL/YK1HS55rj9jnwEuJ4xmHwzYxtyr9CkAwOOn09K5/Uf%2BCan/BO7UwVuf2SPDq56/ZwIf8A0Wor6WTwBsspLP8Atb/WSo%2B7yOm0MMfe/wBr9Ki/4Vt/1Gv/ACW/%2Byrmll2Tz%2BKhB/8Abkf/AJE9ejxzxxh/4WaYmPpiK/8A8uZ8nan/AMEif%2BCZuqktcfsuCM9ja%2BLNQhx9PLlFUv8Ah0F%2BwNb/AC6P4E8Y6enaKy%2BIuoKo/wC%2BmNfX3/Ctv%2Bo1/wCS3/2VH/Ctv%2Bo1/wCS3/2VYPJOH27/AFaH/gKX5JHqQ8VPE6nHlWdYprs69SS%2B6TkfIP8Aw6Q/YzT/AI9n%2BJMP/XL4l3g/mKnj/wCCSn7KI06W4t/F/wAWYQk0a7Y/ifdDOQ5z932/X8/rf/hW3/Ua/wDJb/7KpU8AbLKSz/tb/WSo%2B7yOm0MMfe/2v0pPI8g6UI/c/wDMv/iK3iX1zau/WUX%2BdNnx5/w6j/ZsT/j3%2BKXxoi/65/FO4H84qP8Ah1Z8B0/1Hx3%2BO0X/AFz%2BK8o/9oV9ff8ACtv%2Bo1/5Lf8A2VH/AArb/qNf%2BS3/ANlR/YmQ/wDPlf8Ak3/yQf8AEVfEfrmdR%2BqpP86DPkH/AIdafB5f9R%2B0v%2B0HH6eX8Wn/APkej/h158N05tv2uf2kIT6xfF0j%2BdrX19/wrb/qNf8Akt/9lR/wrb/qNf8Akt/9lR/YmR/8%2Bl98/wD5MP8AiKniJ1zCT9YYd/nhWfJCf8ExNATT5biy/by/akt1SaNTFH8YRtJIfB5s%2B2D%2BdQf8O18fIv8AwUB/ab2eh%2BKcZb8/slfYaeANllJZ/wBrf6yVH3eR02hhj73%2B1%2BlRf8K2/wCo1/5Lf/ZULJMl/wCff/k1T/5YL/iKXH73xl/WjhH/AO6Z8g/8OzNFkH%2Bl/t6/tSSeo/4XAoH5Czr3P9i/9mHRP2cP%2BElOkfGr4m%2BMTrX2PzW%2BI/jD%2B1ja%2BT5%2BPs/7mPyt3mnf13bE6befS/8AhW3/AFGv/Jb/AOyrU8N%2BG/8AhHvO/wBN87ztv/LPbjGfc%2BtaU8ryvDzVSjC0ls%2Bab/Ocl%2BBwZpx9xhnWBngsbiuelO14%2Bzw8b2aa1p4anLRpPSa87rR6lFFFdJ8iFVdc0XSvEmi3nh3XbGO6sb%2B1ktry2lGVmidSrofYqSD9atUUAeQfDb9jrw58NbbVI7P4x%2BO9RuNW8L2/hybUr/U7VLuHSrWKeOztop7a2ikjNubq5kSYHz2kmLSSSELtxtc/YM0DxDZ2s2qftB/EGXWY/GMHibUPEUy6LLcape29otraC4hl01rQxW6KjxIkCBZkWc5lHmV7xRQBT8P6Ze6NodnpOo%2BIbzVri2tkim1TUEhWe7ZQAZZBBHHEGY8kIiLk8KBxXkXhL4MeD/gje%2BItG8HG5ZNe8W6n4i1GW7kVne81C4e6m5VVGxWk2IMZCIoJYgsfaawda8E/2vqcuo/2n5fmbfk8nOMKB13D0qqcaXtVOS1V7Pte1/vsbwxeKpYaph4TahU5XKPSXI24378rk2vNnG0V1H/Ctv8AqNf%2BS3/2VH/Ctv8AqNf%2BS3/2VdXtafc5bM5eiuo/4Vt/1Gv/ACW/%2Byo/4Vt/1Gv/ACW/%2Byo9rT7hZmDrH/H2n/XrB/6KSqtdbeeAPtcol/tbbiJEx5GfuoFz972zUX/Ctv8AqNf%2BS3/2VJVYW3CzOXorqP8AhW3/AFGv/Jb/AOyo/wCFbf8AUa/8lv8A7Kn7Wn3CzOXq1rH/AB9p/wBesH/opK3v%2BFbf9Rr/AMlv/sqlvPAH2uUS/wBrbcRImPIz91Aufve2aXtYX3CzOSorqP8AhW3/AFGv/Jb/AOyo/wCFbf8AUa/8lv8A7Kn7Wn3CzOXorqP%2BFbf9Rr/yW/8AsqP%2BFbf9Rr/yW/8AsqPa0%2B4WZg6x/wAfaf8AXrB/6KSqtdbeeAPtcol/tbbiJEx5GfuoFz972zUX/Ctv%2Bo1/5Lf/AGVJVYW3CzOXorqP%2BFbf9Rr/AMlv/sqP%2BFbf9Rr/AMlv/sqftafcLM5erWsf8faf9esH/opK3v8AhW3/AFGv/Jb/AOyqW88Afa5RL/a23ESJjyM/dQLn73tml7WF9wszkqK6j/hW3/Ua/wDJb/7Kj/hW3/Ua/wDJb/7Kn7Wn3CzOXorqP%2BFbf9Rr/wAlv/sqP%2BFbf9Rr/wAlv/sqPa0%2B4WZg6x/x9p/16wf%2BikqrXW3ngD7XKJf7W24iRMeRn7qBc/e9s1F/wrb/AKjX/kt/9lSVWFtwszl6K6j/AIVt/wBRr/yW/wDsqP8AhW3/AFGv/Jb/AOyp%2B1p9wszl6tah/wAelj/16n/0bJW9/wAK2/6jX/kt/wDZVLceAPPigi/tbHkxFM%2BR1%2Bdmz97j72PwpOrC%2B4WZyVFdR/wrb/qNf%2BS3/wBlR/wrb/qNf%2BS3/wBlT9rT7hZnL0V1H/Ctv%2Bo1/wCS3/2VH/Ctv%2Bo1/wCS3/2VHtafcLMwdQ/49LH/AK9T/wCjZKq11tx4A8%2BKCL%2B1seTEUz5HX52bP3uPvY/Cov8AhW3/AFGv/Jb/AOypKrC24WZy9d54M/5Fq2/4H/6G1Zf/AArb/qNf%2BS3/ANlW9oum/wBkaZFp3neZ5e759uM5Ynpk%2BtRVnGUbIaTTLVFFFc5QUUUUAFFFFABRRRQAUUUUAFFFFABRRRQAUUUUAFFFFABRRRQAUUUUAed/tIfFDxj8N/D/AIe0v4dppi6/4u8X2OgaVd61ayXFpZtLvllnliikieUJBDMVjEke59gLqCTXnOm/tP8Axm8X%2BDfBPhTw4nhew8b%2BJPiZ4h8Ialq17pFzc6Za/wBjHVBPex2i3UcricacmyE3AMf2r5pJPKIf1/4xfCLRPjN4Wt/Dmq65qek3Nhq1rqmj61o0kS3enXlvIJIpovOjkjJ4Ksskbo6O6spDEVxEH7GXhTT/AAVo/hTQ/it4wsL3w/4mufEWi%2BJbeTT2v7XVbsXn2%2B6/eWbQym6N/eNIkkTxgz/uki2RhADqv2bPitqXxu%2BB3h34m65pUFjqOo2bJqtpaOzQxXkMjwTiMtyY/NjfaTztxnmu4rn/AIV/DTwv8HPhxovwt8FxTrpehafHaWhupjLNIFHMkjnl5HOXZjyzMT3roKACsrx1L43h8G6pJ8NbTS5/EAsZP7Gi1ueSOza52ny/OaJWcR7sFtoyQMDGcjVrnvi18PI/i18Mde%2BGE3i/WtAj8QaVNYTaz4cuY4b%2B0SVCjPBJJHIscm0nDFSVJyMEAgA8E1D9qr4%2B237OXjfx7oqeHNd1bw18UtL8L6P4p0TwbqFzpmr2M19pVtfahDpsN3JcS/ZWu7%2BBkjuG3y6c7AgEoPZv2fPiL/wtH4ZW3iifx1pviG6W8urW/vdM8MXeirFPDM8bwSWN5NLcWssZXY6Stu3KTtUEAYfhz9mbU/DHwzPwt0/9o3x3HY20FrFoU9hbaJp8mirbSRPCtstlpsMRjHlBDFLHJE8bMjoynFdL8G/g/ofwX8MXXh/Std1PV7nUtYutV1nWtakia71C9uJN8k0nkxxRL/CoWONEVUUBRigDraKKKAOB/al%2BI3jj4Rfs6eM/id8NNHgv9f0Pw/cXmkWd1p813HLOi5UNDA6SSjP8CMrHoCK86m/ai8YwfAafxF4e8ceHfEni6b4haX4SieXwHqegw6Rd313ZwAXum3l090GihuhdbDJF5yNEFKLIJD7d458Kjxx4Q1Hwl/wkeq6QdQtWhTVdDvfs95aMfuywyYIV1OCMhlOMMrKSD5hH%2Bxf4Vm8M%2BJND1/4teMtVvvFOv2Ov6n4hvJNOS9XV7JrM2V9F5NnHDG8C2FoixiPyGWE%2BZE5kkZwDof2bvij4u%2BJfhbXLP4gxab/b/hbxdqGgatc6NbSQWl29vIDHPFFJJI8QeGSFjG0j7HLLvYAMfQ65X4O/CPQvgv4Rl8L6NrGo6pNeard6nq2s6xJE13qN7czNNNPKYo44wSzYCxoiIqqiqqqAOqoAKoeKbbxTd%2BH7u28Faxp%2Bn6q8WLG91TTXvLeF8/ekhjmhaQYzwJEPvV%2Bo7y3N3aS2q3EkJljZBNCQHTIxuUkEZHUcGgD5nu/2k/2mtM/ZI1f43pc%2BFtY1K4%2BJWm6T4U1LRvh/qU0Eugza5Y6XPqL6bDfzXFw2x767iEM4Dw/ZyVB3g%2B0/s/8AxDX4o/C2y8WSeOdN8Q3LXN1bX2oaX4butHRZ4biSJ4HsbuaWe1liKeXJHK%2B8OjEhc7Rl6V%2BzhYeGfgxoPwN8D/FjxfoGl%2BGPDulaTod7pF3aJd2wsPLEU5drZlld1jVJY5FeCRcgxfMc7nwa%2BEOhfBXwjL4W0bWtS1Sa81a81TVdY1mSJrrUL26maaaeTyY441JZsBY0RFVVVVAAFAHV0UUUAeWftFfFj4q/C7xj8NbTwVpOgS6H4l8bwaN4mudUadrqOOZHMa2scZVAxKOzSuxChAojfzC8fH/so/tR/FT4wa54Qk%2BJFj4eXTfid8Ll8eeDotEsJ4J9Ls/NtQbO7eWeVbmURajZnzo1hUssw8vG013fx/8A2dZPj5deG7lvjX4v8KDwxrUerWUXhiLSmWa8jBEckv26xuSdoZwFUqp3HcGwMZnwj/Y98G/BbUo9S8I/ETxVL/Z2k2%2BjeGYL%2Baylj8P6NFdLcHS7QC1H7hwkcLNMZZvKijCyoUVgAct%2Bzr%2B1H8VPib8QvC1v44sfDy%2BHviR4Y17XvCMOlWE8V3pcGnX9nBHDdyyTyJdPNBfRylkjgETxOmJAysPoSvLfhL%2ByZ4D%2BD/j0eOtF8U%2BINQFjY6jY%2BGdI1W4t2tPD1pf3kd5d29oI4UkKSTQwf695mRYERCiAqfUqACvLP2ivix8Vfhd4x%2BGtp4K0nQJdD8S%2BN4NG8TXOqNO11HHMjmNbWOMqgYlHZpXYhQgURv5heP1OvN/j/wDs6yfHy68N3LfGvxf4UHhjWo9WsovDEWlMs15GCI5Jft1jck7QzgKpVTuO4NgYAMD4LfF/45a1%2B0Br/wAG/ik3hDUE0zw7Dql5J4PtLpV8PXE9w4g025nnlcXc0luBMHWO3IVNzRBZYjWN%2ByT%2B0r8Q/i9401Xwv8WvFWi2OppNrD6Z4Qi%2BHGq6Rc/Y7PVXtFuo768ung1GMR%2BR5ht4wEe5jyU3KrdP8C/2Vrr4CabeaPoP7RXjrVra/wBTfUbxdbtNDZ57uW7W4uJ5JYNNiklebDRMzsxEchCbGWN00fA37NeleD/imvxZ1j4peL/E99Y6fqFh4etfEt/bzQ6La3tzDcXMUDRwRzShmtrdQ9zJM6JCqqygvuAPSKKKKAPLP2ivix8Vfhd4x%2BGtp4K0nQJdD8S%2BN4NG8TXOqNO11HHMjmNbWOMqgYlHZpXYhQgURv5hePkv2Jf2lfiH8dLV7f4weKdFtvEMmjpqDeDrb4caroVzZRGZ4zIs9/dSpqEQIVDLAgRXIyRuC13Hx/8A2dZPj5deG7lvjX4v8KDwxrUerWUXhiLSmWa8jBEckv26xuSdoZwFUqp3HcGwMVPAf7LVr4H8Xr49uvjf468Qava6YmlaPfeI7yxuJdN037XFczWkbC0UyrOYIY5Zrgy3BSNSsquN9AHHfs6/tR/FT4m/ELwtb%2BOLHw8vh74keGNe17wjDpVhPFd6XBp1/ZwRw3csk8iXTzQX0cpZI4BE8TpiQMrD6Ery34S/smeA/g/49HjrRfFPiDUBY2Oo2PhnSNVuLdrTw9aX95HeXdvaCOFJCkk0MH%2BveZkWBEQogKn1KgAryz9or4sfFX4XeMfhraeCtJ0CXQ/EvjeDRvE1zqjTtdRxzI5jW1jjKoGJR2aV2IUIFEb%2BYXj9Trzf4/8A7Osnx8uvDdy3xr8X%2BFB4Y1qPVrKLwxFpTLNeRgiOSX7dY3JO0M4CqVU7juDYGADI%2BCHjj4/%2BIPjh418CfEDxh4O1zw/4StLK1mv/AA94Pu9LmXV54xctasZtRuldYrSS0kYhVybxMH5WFc9%2Bx7%2B0r8Q/jNr9/oXxb8VaLZ6x5WoXFl4Ph%2BHGq6Ncx2tvqDWwuEvL26ki1GML5Ike3jCo86biu5VPqPgv4O6X8P7PW4PDPirV4p/EPi1/EGp30ht5JpJnkiZ4BuhKiFooVg%2B75ixH5XVwrrjfD79mvSvA/wATV%2BK2r/FLxf4p1Gz0m%2B0vw/H4ov7eZNGsby5gubiCFooI5ZQ72tqN9y88gW2QBxltwB6RRRRQAUUUUAFFFFABRRRQB4B%2B1h%2B0v8W/hNrviCy%2BFFh4deHwL8L73xz4mj16xnmk1O3hkcR2Fs0U8QtpJFt7rNw4mVD5X7pgWxW%2BOf7V/wATvA/jzxBceArPw%2B/hXwFoHhzV/FMWq6fPJe6pDql9cQvHayJOiWrQW9sZQXjmEryCPEQUue3%2BPf7J3gX9oPUjqHiPxX4h0gXnh268PeIrfQbm3jj13R7h0eawuvOhkIjbawDwmKZRLKFkUOaqeOv2O/BfxF8XQ%2BLvEnxC8Ulp7TTLXxLYW8tlHbeI4NOvZb2yivFFrlVimml/49zAZEcxymRMKAD1yiiigArxj9sz4vfHH4HeBJviR8LW8INZ6bp0zjSdes7q5v8AxHqrPEljo1kkMsSwy3Ls8YnYzFXaP9wy7iPZ68y%2BMv7NKfF/4k%2BGfilB8afF3hnUfCVreRaPDoUGkz26SXIRZLkx6hY3IFwI0MSyrtZY5ZkGBK%2B4A4z4v/tLfEP4fftVxfDDUPFOi%2BGPBMfh7w/eNrOr/DjVdUW9vL7UtQtZbVtRtrqK103C21oqPcKw8y7B%2BYYU/QFeWfEX9lm2%2BKk1tB40%2BOPjq50owWcOveH1u7FbHXFtrprmMzoLTMJLHY5tWtzLGqpJvCrj1OgAooooA%2Bf/ANqf9pT4ifBj4xaB4Zs/FOi%2BGPB8/hS/1bxB4p1r4carrsNpJBdWkarLLY3UEdhD5c0sjz3GY1EeSVANR/tAftSfFP4c/EfxND4KsvDzeGfh3ovh7VPFsOp2E8t7qcep39zBJHayxzols0EFsZQzxzCZ5AmIgpc998fP2cdP/aC0%2BbQNc%2BK3jHRNH1HRbrSPEWieH9Qt0tdasLjAlhnWeCUxkpvTzrcwzBZGAkHy7cjxt%2Bxx4I8f%2BKoPFPiDx/4o/e2el2niTTraWyjtvEVvp17Je2MV2q2uVWKWaUf6OYDIjmOUyJhQAeu0UUUAFeQ/ta%2BOPj/8PfD2nap8C/GHg621HVtTtdG0nRfE/g%2B71Fr/AFG5mCIwlg1G18qGKPzJpfkkYRQSsM42n16ua8bfC3QPHvi3wf4x1q9vUn8E65Pq2lQW8iCKW4l0%2B7sCZQyksBDeTEbSpDEEkgEEA8k%2BKv7S3xC8CftdR/CfU/FWi%2BGvBEegeGrpdV1X4carqQ1G%2B1DU9TtJrM6nb3UVppx22lmkZuEbMl4OHyqH6Ary34hfsuWnxR1Gzfxl8bPHNzpSDTzrPhsXlkthrL2V19qhedBab4WMm0SfZXgEqoiyBwMV6lQAUUUUAfMms/tTftIRfG7WPgDFpngnTdV1H4l2Ph7wdqT2V5fQWVjLomoaw894gnga5maDTZAEjaFUedVLSCMySbkX7UvxK1/9nvwb4k0DS9Cs/Gvizx43g15ru1mn0y0v7a%2Bu7W9uhCsscskQWwunji81WJaNWkHLVY1T9hLTNX%2BJmr/Fu8/aR%2BIv9tajrVtq%2BnzRpoaro17bwSWsU1sBpmTi0muLUrMZUeK4k3qz7ZF6CT9kTwTH8KtL%2BEuleOfE1haaFcWV9oepW09o15ZapBdS3T6mskluwkuJ5Jn85ZVeF1JURKHfcAbH7NPxT8R/Fz4ZS674ztLGLWtK8Ta1oGrnTInjtp7jTdTubFp4kd3aNJfs4lEbO5QSbC7FSx7%2BuY%2BD/wAKfD3wW8B2/gHw3fX15El5eX15qGpyo9zfXl3dS3d1cylFRPMluJ5ZGCKqAvhVVQFHT0AFfP8AB8bv2mdY8YfFXwc118NfDcfgnXrBrTXdYF5Pa6doctq9xJdXQ82D7RPsRSUD20cXmsDJIId0v0BXz148/wCCfGn/ABD8T%2BI/Eeu/tUfE0ReKdb0/U9X0iO38OtZyvYkG0hMcmkMZIY9qfu5C4fYpfeeSAQeJf2n/AI7J%2Bxj4O%2BOui%2BFLOy8S%2BIta0i1vFbwbqOqQxWV1fpA9/HpttMl2we3YXCQeYXQSKrFipz698CfH8PxP%2BFemeM4/G2m%2BIXuDPFc6ppOg3GlxNPDPJDLEbO5llmtpInjaKSKVy6SRuGCkFRS1f4M%2BKNb8HJ4YvP2jPHaXkItnt/ENo2mW94k0M8kplKxWKwSeYrrC8UkTwmOJMRq%2B930vg58JfD/wT8Cx%2BBfD2p6hfqdRvdRv9T1aVHur%2B9vLqW7uriUxoiBpJ5pH2oiIu4KiqqqoAOpooooA%2BUvid%2B1t%2B1F4R8ceLPBdvoHhi1Gk/EnSNJsbzTPBur%2BI5LTR7zT7m58%2Be1s5oZri4LQxcRBEj84p%2B92CR/QvFf7RHiY/A7wH4j%2BF3i/w1r%2BuePvEdhommeIn0G5h0yOWUyPcXD2LXPnr5cVvcD7O06uJVCO6/NhD%2BxnqkPxH8R/FHSv2uPinp%2BpeJNQt7y4jsX0OOG3eCMwwqqf2XiWNYWePy5/NU7hIQZUjlTTH7IHgqD4Waf8ACjTPH3ii0ttHv7bVNH1WGe0a9s9XjvZr2XVFd7Zlee4mnk85JFeBlJVYUDOGANr9mn4p%2BI/i58Mpdd8Z2ljFrWleJta0DVzpkTx209xpup3Ni08SO7tGkv2cSiNncoJNhdipY9/XMfB/4U%2BHvgt4Dt/APhu%2BvryJLy8vrzUNTlR7m%2BvLu6lu7q5lKKieZLcTyyMEVUBfCqqgKOnoAK8Y1b4nftDan%2B054l%2BBOg3PgzRdNj8DWuteFNXvdKu9Sm8w3Yhna7iW4tl2nEiJFG4K7VkaVt5hT2evJPFv7JyeMPjFrHxhvfj946tpNZ8KT%2BHZtCsl0hLKCxkV/ljY6eblXWRzMrmYneADlPkIBx9n%2B0V%2B0PD%2Bwhr37SrReGta8QSQXOoeC30jwlera32lmcJZXT2S3ks8hmgxc7EmB2yovBBz6X%2Bzj8Trn4peCLvU9U8f6Z4g1HTtYmsdTbT/AAXf%2BHnsZlSN/s89hfzzXEEoSRJPnK7kljYLtYM129%2BDFmfhvY/Czw1498ReH9M03w4NIsX0G6hgnh2CAQXKyGEsJYhDhVH7lhLIJIpBtCr8G/gvpPwbs9ceDxZrPiDVfE%2BunWPEWv6%2B1v8Aar%2B7%2BzW9ojMttDDCgS3tbaJVjjQbYgSCxZiAdlRRRQAUUUUAFFFFABRRRQAUUUUAFFFFABRRRQAUUUUAFFFFABRRRQAUUUUAFFFFABRRRQAUUUUAFFFFABRRRQAUUUUAFFFFABRRRQAUUUUAFFFFABRRRQAUUUUAFFFFABRRRQAUUUUAFFFFABRRRQAUUUUAFFFFABRRRQAUUUUAFFFFABRRRQAUUUUAFFFFABRRRQAUUUUAFFFFABRRRQAUUUUAFFFFABRRRQAUUUUAFFFFABRRRQAUUUUAFFFFABRRRQAUUUUAFFFFABRRRQAUUUUAFFFFABRRRQAUUUUAFFFFABRRRQAUUUUAFFFFAH//2Q%3D%3D\">"
            ]
          },
          "metadata": {
            "tags": []
          }
        }
      ]
    },
    {
      "metadata": {
        "id": "0RqNbmwtU0Hi",
        "colab_type": "code",
        "colab": {}
      },
      "cell_type": "code",
      "source": [
        ""
      ],
      "execution_count": 0,
      "outputs": []
    }
  ]
}